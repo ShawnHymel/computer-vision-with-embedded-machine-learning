{
 "cells": [
  {
   "cell_type": "markdown",
   "metadata": {
    "id": "tDqNK9paSN_Y"
   },
   "source": [
    "# Saliency and Grad-CAM Examples\n",
    "\n",
    "[![Open In Colab <](https://colab.research.google.com/assets/colab-badge.svg)](https://colab.research.google.com/github/ShawnHymel/computer-vision-with-embedded-machine-learning/blob/master/2.3.1%20-%20CNN%20Visualizations/ei_saliency_and_grad_cam.ipynb)\n",
    "\n",
    "Import a trained model (.zip file) from Edge Impulse and copy in post-processed features of a single sample image. Run the notebook to see a saliency map and Grad-CAM heatmap.\n",
    "\n",
    "Saliency maps highlight which pixels in the input image were most important (i.e. most salient) in the decision making process.\n",
    "\n",
    "Grad-CAM looks at the output feature map of the final convolution layer to figure out which areas of the image were the most important in the decision making process.\n",
    "\n",
    "Author: EdgeImpulse, Inc.<br>\n",
    "Date: June 19, 2021<br>\n",
    "License: [Apache-2.0](apache.org/licenses/LICENSE-2.0)<br>"
   ]
  },
  {
   "cell_type": "code",
   "execution_count": 21,
   "metadata": {
    "id": "sGv808ddkd3P"
   },
   "outputs": [],
   "source": [
    "import numpy as np\n",
    "\n",
    "import tensorflow as tf\n",
    "\n",
    "from keras import activations, layers, models, backend\n",
    "\n",
    "import cv2\n",
    "\n",
    "import matplotlib.pyplot as plt"
   ]
  },
  {
   "cell_type": "code",
   "execution_count": 32,
   "metadata": {
    "colab": {
     "base_uri": "https://localhost:8080/"
    },
    "id": "_FANkwFgQ6gi",
    "outputId": "bc18bfe0-8493-4602-86c1-fd7d397f1505"
   },
   "outputs": [
    {
     "name": "stdout",
     "output_type": "stream",
     "text": [
      "unzip:  cannot find or open /content/ei-electronic-components-cnn-nn-classifier-tensorflow-savedmodel-model.zip, /content/ei-electronic-components-cnn-nn-classifier-tensorflow-savedmodel-model.zip.zip or /content/ei-electronic-components-cnn-nn-classifier-tensorflow-savedmodel-model.zip.ZIP.\n"
     ]
    }
   ],
   "source": [
    "### Unzip model\n",
    "\n",
    "# Change this based on your .zip model filename\n",
    "model_zip_path = \"/content/ei-electronic-components-cnn-nn-classifier-tensorflow-savedmodel-model.zip\"\n",
    "\n",
    "# Unzip in place\n",
    "!unzip \"{model_zip_path}\""
   ]
  },
  {
   "cell_type": "code",
   "execution_count": 5,
   "metadata": {
    "id": "0MdzYh9ZkmMB"
   },
   "outputs": [],
   "source": [
    "### Settings\n",
    "\n",
    "# Image resolution\n",
    "width = 28\n",
    "height = 28\n",
    "\n",
    "# Labels\n",
    "labels = [\"background\", \"capacitor\", \"diode\", \"led\", \"resistor\"]\n",
    "\n",
    "# Paste ground processed features from Edge Impulse and set ground-truth label\n",
    "img = [0.5536, 0.5497, 0.5702, 0.5719, 0.5608, 0.5702, 0.5758, 0.5719, 0.5758, 0.5758, 0.5758, 0.5742, 0.5781, 0.5804, 0.5827, 0.5815, 0.5811, 0.5792, 0.5820, 0.5838, 0.5850, 0.5834, 0.5815, 0.5845, 0.5827, 0.5799, 0.5781, 0.5735, 0.5497, 0.5663, 0.5758, 0.5758, 0.5696, 0.5719, 0.5758, 0.5719, 0.5735, 0.5758, 0.5765, 0.5804, 0.5834, 0.5834, 0.5834, 0.5822, 0.5845, 0.5850, 0.5862, 0.5822, 0.5815, 0.5822, 0.5845, 0.5815, 0.5845, 0.5850, 0.5850, 0.5776, 0.5663, 0.5758, 0.5758, 0.5719, 0.5735, 0.5758, 0.5742, 0.5776, 0.5792, 0.5804, 0.5827, 0.5834, 0.5850, 0.5875, 0.5880, 0.5899, 0.5834, 0.5875, 0.5915, 0.5880, 0.5891, 0.5843, 0.5840, 0.5859, 0.5845, 0.5822, 0.5845, 0.5840, 0.5702, 0.5758, 0.5719, 0.5758, 0.5742, 0.5719, 0.5765, 0.5827, 0.5850, 0.5834, 0.5834, 0.5811, 0.5977, 0.6049, 0.6026, 0.5967, 0.5900, 0.5991, 0.6032, 0.5829, 0.5886, 0.5863, 0.5838, 0.5822, 0.5811, 0.5850, 0.5854, 0.5820, 0.5696, 0.5735, 0.5719, 0.5719, 0.5730, 0.5765, 0.5827, 0.5811, 0.5811, 0.5862, 0.5834, 0.5922, 0.6072, 0.6055, 0.6055, 0.6044, 0.6049, 0.6072, 0.6032, 0.5931, 0.5931, 0.5850, 0.5845, 0.5804, 0.5822, 0.5843, 0.5865, 0.5831, 0.5735, 0.5719, 0.5758, 0.5822, 0.5815, 0.5827, 0.5834, 0.5850, 0.5954, 0.6032, 0.6028, 0.6072, 0.6049, 0.6032, 0.6037, 0.6055, 0.6055, 0.6055, 0.6049, 0.6049, 0.6026, 0.5905, 0.5815, 0.5850, 0.5838, 0.5854, 0.5870, 0.5829, 0.5742, 0.5735, 0.5758, 0.5834, 0.5850, 0.5850, 0.5815, 0.5961, 0.6083, 0.6049, 0.6049, 0.6032, 0.6032, 0.6049, 0.6055, 0.6037, 0.6055, 0.6072, 0.6032, 0.6032, 0.6049, 0.5958, 0.5891, 0.5820, 0.5842, 0.5956, 0.5991, 0.5849, 0.5735, 0.5735, 0.5742, 0.5827, 0.5811, 0.5811, 0.5815, 0.5981, 0.6049, 0.6009, 0.6055, 0.6078, 0.6049, 0.6055, 0.6072, 0.6072, 0.6049, 0.6095, 0.6101, 0.6072, 0.6009, 0.6026, 0.6049, 0.5970, 0.5928, 0.6049, 0.6067, 0.5894, 0.5758, 0.5735, 0.5804, 0.5811, 0.5866, 0.5917, 0.5854, 0.5975, 0.6049, 0.6055, 0.6055, 0.6072, 0.6072, 0.6095, 0.6037, 0.6049, 0.6072, 0.6136, 0.6136, 0.6124, 0.6060, 0.6078, 0.6078, 0.6095, 0.6049, 0.6032, 0.6072, 0.5993, 0.5804, 0.5822, 0.5850, 0.5811, 0.5863, 0.6014, 0.6067, 0.6067, 0.6055, 0.6055, 0.6067, 0.6067, 0.6044, 0.6067, 0.6067, 0.6090, 0.6136, 0.6136, 0.6120, 0.6081, 0.6097, 0.6124, 0.6136, 0.6083, 0.6037, 0.6067, 0.6055, 0.6072, 0.5822, 0.5850, 0.5850, 0.5811, 0.5871, 0.6021, 0.6044, 0.5998, 0.5975, 0.6014, 0.5975, 0.5958, 0.5993, 0.6051, 0.5993, 0.6062, 0.6101, 0.6122, 0.6306, 0.6428, 0.6287, 0.6150, 0.6032, 0.6044, 0.6032, 0.6060, 0.6049, 0.6009, 0.5850, 0.5822, 0.5822, 0.5834, 0.5850, 0.5862, 0.6007, 0.6255, 0.6336, 0.6151, 0.6309, 0.6505, 0.6334, 0.6336, 0.6542, 0.6572, 0.6388, 0.6270, 0.5476, 0.4665, 0.5099, 0.5876, 0.6102, 0.6032, 0.6044, 0.6067, 0.6067, 0.5986, 0.5799, 0.5781, 0.5827, 0.5850, 0.5815, 0.5862, 0.5517, 0.3781, 0.2192, 0.3420, 0.4005, 0.4060, 0.4991, 0.5137, 0.4310, 0.4207, 0.4463, 0.3916, 0.2547, 0.0898, 0.2204, 0.3795, 0.5794, 0.6131, 0.6062, 0.6078, 0.6055, 0.6009, 0.5757, 0.5780, 0.5803, 0.5820, 0.5805, 0.6075, 0.3876, 0.1835, 0.0399, 0.2985, 0.2197, 0.0139, 0.1731, 0.3261, 0.1489, 0.1767, 0.3422, 0.3198, 0.3476, 0.5168, 0.5582, 0.3599, 0.4792, 0.6490, 0.6372, 0.6266, 0.6157, 0.6153, 0.6008, 0.5988, 0.5937, 0.5815, 0.5922, 0.5418, 0.3256, 0.2231, 0.1299, 0.3781, 0.4072, 0.3059, 0.3375, 0.3961, 0.2047, 0.2526, 0.3623, 0.3195, 0.3432, 0.4702, 0.5333, 0.3945, 0.3316, 0.4202, 0.4269, 0.5429, 0.6038, 0.6160, 0.3374, 0.3295, 0.3386, 0.3707, 0.3733, 0.2852, 0.2560, 0.2133, 0.0585, 0.2619, 0.1949, 0.0106, 0.1203, 0.3086, 0.1467, 0.1673, 0.3037, 0.2887, 0.2583, 0.1448, 0.2198, 0.3257, 0.3154, 0.4693, 0.4956, 0.5046, 0.5136, 0.5140, 0.3459, 0.3465, 0.3447, 0.3461, 0.3315, 0.2495, 0.2328, 0.1714, 0.0491, 0.2280, 0.2032, 0.0356, 0.1313, 0.2869, 0.1546, 0.1676, 0.2735, 0.2596, 0.2374, 0.1442, 0.2082, 0.3044, 0.3166, 0.4060, 0.4084, 0.3964, 0.3924, 0.3882, 0.4320, 0.4375, 0.4345, 0.4321, 0.4292, 0.3104, 0.2058, 0.1785, 0.0831, 0.2038, 0.2002, 0.0634, 0.1012, 0.1788, 0.1286, 0.1219, 0.1668, 0.1766, 0.2123, 0.1878, 0.1933, 0.2740, 0.5056, 0.5809, 0.5736, 0.5758, 0.5742, 0.5726, 0.6038, 0.6038, 0.6072, 0.6065, 0.6158, 0.5636, 0.2647, 0.1153, 0.0912, 0.1179, 0.1702, 0.1787, 0.2035, 0.2151, 0.2285, 0.2401, 0.2233, 0.1741, 0.1466, 0.1593, 0.2002, 0.3985, 0.6271, 0.6503, 0.6452, 0.6270, 0.6203, 0.6215, 0.5783, 0.5783, 0.5806, 0.5819, 0.5819, 0.5877, 0.5240, 0.3872, 0.3661, 0.4013, 0.5094, 0.5794, 0.5998, 0.6111, 0.6070, 0.6139, 0.6102, 0.5721, 0.5139, 0.5248, 0.5613, 0.6043, 0.6180, 0.6284, 0.6268, 0.6124, 0.6124, 0.6124, 0.5838, 0.5838, 0.5834, 0.5850, 0.5815, 0.5896, 0.6131, 0.6318, 0.6329, 0.6341, 0.6309, 0.6169, 0.6125, 0.6213, 0.6187, 0.6203, 0.6234, 0.6278, 0.6340, 0.6340, 0.6296, 0.6175, 0.6136, 0.6136, 0.6136, 0.6147, 0.6118, 0.6078, 0.5799, 0.5850, 0.5850, 0.5811, 0.5850, 0.6032, 0.6032, 0.6005, 0.6097, 0.6097, 0.6074, 0.6090, 0.6099, 0.6173, 0.6101, 0.6124, 0.6236, 0.6215, 0.6167, 0.6136, 0.6148, 0.6136, 0.6141, 0.6164, 0.6164, 0.6129, 0.6136, 0.6118, 0.5735, 0.5799, 0.5850, 0.5811, 0.5836, 0.5998, 0.6072, 0.6055, 0.6078, 0.6083, 0.6055, 0.6072, 0.6096, 0.6115, 0.6060, 0.6118, 0.6159, 0.6136, 0.6129, 0.6160, 0.6164, 0.6164, 0.6136, 0.6141, 0.6164, 0.6124, 0.6095, 0.6072, 0.5742, 0.5735, 0.5804, 0.5834, 0.5827, 0.5878, 0.5942, 0.6072, 0.6095, 0.6032, 0.6049, 0.6037, 0.6067, 0.6067, 0.6044, 0.6106, 0.6152, 0.6106, 0.6101, 0.6141, 0.6141, 0.6141, 0.6152, 0.6129, 0.6129, 0.6118, 0.6037, 0.6049, 0.5719, 0.5719, 0.5758, 0.5827, 0.5845, 0.5788, 0.5822, 0.5903, 0.5998, 0.6072, 0.6032, 0.6055, 0.6072, 0.6060, 0.6037, 0.6067, 0.6072, 0.6049, 0.6101, 0.6147, 0.6141, 0.6106, 0.6136, 0.6164, 0.6072, 0.6037, 0.6072, 0.6072, 0.5758, 0.5758, 0.5719, 0.5742, 0.5769, 0.5758, 0.5804, 0.5811, 0.5862, 0.5926, 0.6026, 0.6072, 0.6032, 0.6044, 0.6055, 0.6049, 0.6072, 0.6032, 0.6049, 0.6118, 0.6147, 0.6090, 0.6049, 0.6078, 0.6055, 0.6049, 0.6055, 0.6049, 0.5592, 0.5719, 0.5758, 0.5735, 0.5742, 0.5723, 0.5758, 0.5827, 0.5742, 0.5776, 0.5926, 0.6032, 0.6072, 0.6037, 0.6072, 0.6055, 0.6055, 0.6049, 0.6009, 0.6032, 0.6095, 0.6095, 0.6032, 0.6049, 0.6072, 0.6055, 0.6049, 0.6072, 0.5497, 0.5536, 0.5608, 0.5719, 0.5758, 0.5719, 0.5758, 0.5811, 0.5781, 0.5746, 0.5811, 0.5905, 0.6014, 0.6032, 0.6055, 0.6049, 0.6032, 0.6049, 0.6032, 0.6055, 0.6049, 0.6060, 0.6072, 0.6009, 0.6032, 0.6072, 0.6055, 0.6049]\n",
    "true_idx = 4  # Resistor\n",
    "\n",
    "# You probably don't need to change this\n",
    "model_dir = \"/content/saved_model\"\n",
    "\n"
   ]
  },
  {
   "cell_type": "code",
   "execution_count": 6,
   "metadata": {
    "colab": {
     "base_uri": "https://localhost:8080/"
    },
    "id": "CDqyA0XRknj6",
    "outputId": "89eebd9d-68b5-4e43-c91f-f265a38d8cb6"
   },
   "outputs": [
    {
     "name": "stdout",
     "output_type": "stream",
     "text": [
      "Model: \"sequential\"\n",
      "_________________________________________________________________\n",
      "Layer (type)                 Output Shape              Param #   \n",
      "=================================================================\n",
      "conv2d (Conv2D)              (None, 28, 28, 32)        320       \n",
      "_________________________________________________________________\n",
      "max_pooling2d (MaxPooling2D) (None, 14, 14, 32)        0         \n",
      "_________________________________________________________________\n",
      "conv2d_1 (Conv2D)            (None, 14, 14, 16)        4624      \n",
      "_________________________________________________________________\n",
      "max_pooling2d_1 (MaxPooling2 (None, 7, 7, 16)          0         \n",
      "_________________________________________________________________\n",
      "flatten (Flatten)            (None, 784)               0         \n",
      "_________________________________________________________________\n",
      "dropout (Dropout)            (None, 784)               0         \n",
      "_________________________________________________________________\n",
      "y_pred (Dense)               (None, 5)                 3925      \n",
      "=================================================================\n",
      "Total params: 8,869\n",
      "Trainable params: 8,869\n",
      "Non-trainable params: 0\n",
      "_________________________________________________________________\n"
     ]
    }
   ],
   "source": [
    "### Load model file\n",
    "model = tf.keras.models.load_model(model_dir)\n",
    "model.summary()"
   ]
  },
  {
   "cell_type": "code",
   "execution_count": 7,
   "metadata": {
    "colab": {
     "base_uri": "https://localhost:8080/",
     "height": 300
    },
    "id": "CC8OsO09k0z1",
    "outputId": "35c814d1-470d-47e1-8c86-23bd2e873434"
   },
   "outputs": [
    {
     "name": "stdout",
     "output_type": "stream",
     "text": [
      "Actual label: resistor\n"
     ]
    },
    {
     "data": {
      "text/plain": [
       "<matplotlib.image.AxesImage at 0x7f45f8324cc0>"
      ]
     },
     "execution_count": 7,
     "metadata": {},
     "output_type": "execute_result"
    },
    {
     "data": {
      "image/png": "[encoded data removed]",
      "text/plain": [
       "<Figure size 432x288 with 1 Axes>"
      ]
     },
     "metadata": {
      "needs_background": "light"
     },
     "output_type": "display_data"
    }
   ],
   "source": [
    "### Reshape image \n",
    "\n",
    "# Convert features to 2D Numpy array\n",
    "img_reshape = np.reshape(np.array(img), (height, width))\n",
    "\n",
    "# Show the ground-truth label\n",
    "print(\"Actual label:\", labels[true_idx])\n",
    "\n",
    "# Display image (make sure we're looking at the right thing)\n",
    "plt.imshow(img_reshape, cmap='gray', vmin=0.0, vmax=1.0)"
   ]
  },
  {
   "cell_type": "code",
   "execution_count": 8,
   "metadata": {
    "colab": {
     "base_uri": "https://localhost:8080/"
    },
    "id": "kJaVVmkNqgAj",
    "outputId": "7b813224-fc19-4a91-d421-83e8cfc55c94"
   },
   "outputs": [
    {
     "name": "stdout",
     "output_type": "stream",
     "text": [
      "(1, 28, 28, 1)\n"
     ]
    }
   ],
   "source": [
    "### The Keras model expects images in a 4D array with dimensions (sample, height, width, channel)\n",
    "\n",
    "# Add extra dimension to the image (placeholder for color channels)\n",
    "img_0 = img_reshape.reshape(img_reshape.shape + (1,))\n",
    "\n",
    "# Keras expects more than one image (in Numpy array), so convert image(s) to such array\n",
    "images = np.array([img_0])\n",
    "\n",
    "# Print dimensions of inference input\n",
    "print(images.shape)"
   ]
  },
  {
   "cell_type": "code",
   "execution_count": 9,
   "metadata": {
    "colab": {
     "base_uri": "https://localhost:8080/"
    },
    "id": "V430dQ8Wp_b0",
    "outputId": "c3941a85-6e80-4a4d-c127-4fa0fbd5acc1"
   },
   "outputs": [
    {
     "name": "stdout",
     "output_type": "stream",
     "text": [
      "background: 8.602966e-06\n",
      "capacitor: 0.00048462878\n",
      "diode: 0.21092136\n",
      "led: 0.0021906886\n",
      "resistor: 0.7863947\n"
     ]
    }
   ],
   "source": [
    "### Do a forward pass (inference) with the test image and print the predicted probabilities\n",
    "\n",
    "# Inference\n",
    "preds = model.predict(images)\n",
    "\n",
    "# Print out predictions\n",
    "for i, pred in enumerate(preds[0]):\n",
    "  print(labels[i] + \": \" + str(pred))"
   ]
  },
  {
   "cell_type": "code",
   "execution_count": 10,
   "metadata": {
    "id": "qgTp5vRMqOXD"
   },
   "outputs": [],
   "source": [
    "### For either algorithm, we need to remove the Softmax activation function of the last layer\n",
    "model.layers[-1].activation = None"
   ]
  },
  {
   "cell_type": "markdown",
   "metadata": {
    "id": "5PIMyTWzHGfA"
   },
   "source": [
    "## Saliency Map"
   ]
  },
  {
   "cell_type": "code",
   "execution_count": 11,
   "metadata": {
    "id": "-jhNP53mHJBv"
   },
   "outputs": [],
   "source": [
    "### Based on: https://github.com/keisen/tf-keras-vis/blob/master/tf_keras_vis/saliency.py\n",
    "def get_saliency_map(img_array, model, class_idx):\n",
    "\n",
    "  # Gradient calculation requires input to be a tensor\n",
    "  img_tensor = tf.convert_to_tensor(img_array)\n",
    "\n",
    "  # Do a forward pass of model with image and track the computations on the \"tape\"\n",
    "  with tf.GradientTape(watch_accessed_variables=False, persistent=True) as tape:\n",
    "\n",
    "    # Compute (non-softmax) outputs of model with given image\n",
    "    tape.watch(img_tensor)\n",
    "    outputs = model(img_tensor, training=False)\n",
    "\n",
    "    # Get score (predicted value) of actual class\n",
    "    score = outputs[:, true_idx]\n",
    "\n",
    "  # Compute gradients of the loss with respect to the input image\n",
    "  grads = tape.gradient(score, img_tensor)  \n",
    "\n",
    "  # Finds max value in each color channel of the gradient (should be grayscale for this demo)\n",
    "  grads_disp = [np.max(g, axis=-1) for g in grads]\n",
    "\n",
    "  # There should be only one gradient heatmap for this demo\n",
    "  grad_disp = grads_disp[0]\n",
    "\n",
    "  # The absolute value of the gradient shows the effect of change at each pixel\n",
    "  # Source: https://christophm.github.io/interpretable-ml-book/pixel-attribution.html\n",
    "  grad_disp = tf.abs(grad_disp)\n",
    "\n",
    "  # Normalize to between 0 and 1 (use epsilon, a very small float, to prevent divide-by-zero error)\n",
    "  heatmap_min = np.min(grad_disp)\n",
    "  heatmap_max = np.max(grad_disp)\n",
    "  heatmap = (grad_disp - heatmap_min) / (heatmap_max - heatmap_min + tf.keras.backend.epsilon())\n",
    "\n",
    "  return heatmap.numpy()"
   ]
  },
  {
   "cell_type": "code",
   "execution_count": 12,
   "metadata": {
    "id": "Jv3ZPnM5HRwg"
   },
   "outputs": [],
   "source": [
    "### Generate saliency map for the given input image\n",
    "saliency_map = get_saliency_map(images, model, true_idx)"
   ]
  },
  {
   "cell_type": "code",
   "execution_count": 13,
   "metadata": {
    "colab": {
     "base_uri": "https://localhost:8080/",
     "height": 282
    },
    "id": "55N3wuvNNn5z",
    "outputId": "43b637d5-48e0-42dd-ebfd-0ca4920b226d"
   },
   "outputs": [
    {
     "data": {
      "text/plain": [
       "<matplotlib.image.AxesImage at 0x7f45f06ba320>"
      ]
     },
     "execution_count": 13,
     "metadata": {},
     "output_type": "execute_result"
    },
    {
     "data": {
      "image/png": "[encoded data removed]",
      "text/plain": [
       "<Figure size 432x288 with 1 Axes>"
      ]
     },
     "metadata": {
      "needs_background": "light"
     },
     "output_type": "display_data"
    }
   ],
   "source": [
    "### Draw map\n",
    "plt.imshow(saliency_map, cmap='jet', vmin=0.0, vmax=1.0)"
   ]
  },
  {
   "cell_type": "code",
   "execution_count": 14,
   "metadata": {
    "colab": {
     "base_uri": "https://localhost:8080/",
     "height": 282
    },
    "id": "MYGRdsbZQfKH",
    "outputId": "6ccf03dc-97b5-45aa-f0ee-2bc2d0f432c0"
   },
   "outputs": [
    {
     "data": {
      "text/plain": [
       "<matplotlib.image.AxesImage at 0x7f45f06f8ef0>"
      ]
     },
     "execution_count": 14,
     "metadata": {},
     "output_type": "execute_result"
    },
    {
     "data": {
      "image/png": "[encoded data removed]",
      "text/plain": [
       "<Figure size 432x288 with 1 Axes>"
      ]
     },
     "metadata": {
      "needs_background": "light"
     },
     "output_type": "display_data"
    }
   ],
   "source": [
    "### Overlay the saliency map on top of the original input image\n",
    "idx = 0\n",
    "ax = plt.subplot()\n",
    "ax.imshow(images[idx,:,:,0], cmap='gray', vmin=0.0, vmax=1.0)\n",
    "ax.imshow(saliency_map, cmap='jet', alpha=0.25)"
   ]
  },
  {
   "cell_type": "markdown",
   "metadata": {
    "id": "__J5ufo7m_-q"
   },
   "source": [
    "## Grad-CAM"
   ]
  },
  {
   "cell_type": "code",
   "execution_count": 15,
   "metadata": {
    "id": "o462piKhlDES"
   },
   "outputs": [],
   "source": [
    "### This function comes from https://keras.io/examples/vision/grad_cam/\n",
    "def make_gradcam_heatmap(img_array, model, last_conv_layer_name, pred_index=None):\n",
    "\n",
    "  # First, we create a model that maps the input image to the activations\n",
    "  # of the last conv layer as well as the output predictions\n",
    "  grad_model = tf.keras.models.Model(\n",
    "      [model.inputs], [model.get_layer(last_conv_layer_name).output, model.output]\n",
    "  )\n",
    "\n",
    "  # Then, we compute the gradient of the top predicted class for our input image\n",
    "  # with respect to the activations of the last conv layer\n",
    "  with tf.GradientTape() as tape:\n",
    "      last_conv_layer_output, preds = grad_model(img_array)\n",
    "      if pred_index is None:\n",
    "          pred_index = tf.argmax(preds[0])\n",
    "      class_channel = preds[:, pred_index]\n",
    "\n",
    "  # This is the gradient of the output neuron (top predicted or chosen)\n",
    "  # with regard to the output feature map of the last conv layer\n",
    "  grads = tape.gradient(class_channel, last_conv_layer_output)\n",
    "\n",
    "  # This is a vector where each entry is the mean intensity of the gradient\n",
    "  # over a specific feature map channel\n",
    "  pooled_grads = tf.reduce_mean(grads, axis=(0, 1, 2))\n",
    "\n",
    "  # We multiply each channel in the feature map array\n",
    "  # by \"how important this channel is\" with regard to the top predicted class\n",
    "  # then sum all the channels to obtain the heatmap class activation\n",
    "  last_conv_layer_output = last_conv_layer_output[0]\n",
    "  heatmap = last_conv_layer_output @ pooled_grads[..., tf.newaxis]\n",
    "  heatmap = tf.squeeze(heatmap)\n",
    "\n",
    "  # The absolute value of the gradient shows the effect of change at each pixel\n",
    "  # Source: https://christophm.github.io/interpretable-ml-book/pixel-attribution.html\n",
    "  heatmap = tf.abs(heatmap)\n",
    "\n",
    "  # Normalize to between 0 and 1 (use epsilon, a very small float, to prevent divide-by-zero error)\n",
    "  heatmap_min = np.min(heatmap)\n",
    "  heatmap_max = np.max(heatmap)\n",
    "  heatmap = (heatmap - heatmap_min) / (heatmap_max - heatmap_min + tf.keras.backend.epsilon())\n",
    "\n",
    "  return heatmap.numpy()"
   ]
  },
  {
   "cell_type": "code",
   "execution_count": 17,
   "metadata": {
    "colab": {
     "base_uri": "https://localhost:8080/"
    },
    "id": "3CLU0fKpoSvv",
    "outputId": "0a372b1e-3a73-4e76-abdf-2bd72b909103"
   },
   "outputs": [
    {
     "name": "stdout",
     "output_type": "stream",
     "text": [
      "<tensorflow.python.keras.layers.convolutional.Conv2D object at 0x7f45faf8ca58> conv2d\n",
      "<tensorflow.python.keras.layers.pooling.MaxPooling2D object at 0x7f45faf439e8> max_pooling2d\n",
      "<tensorflow.python.keras.layers.convolutional.Conv2D object at 0x7f45fb0ddb00> conv2d_1\n",
      "<tensorflow.python.keras.layers.pooling.MaxPooling2D object at 0x7f45faf1cb38> max_pooling2d_1\n",
      "<tensorflow.python.keras.layers.core.Flatten object at 0x7f45f8563128> flatten\n",
      "<tensorflow.python.keras.layers.core.Dropout object at 0x7f45f8563588> dropout\n",
      "<tensorflow.python.keras.layers.core.Dense object at 0x7f45f8563b00> y_pred\n",
      "Last convolution layer found: conv2d_1\n"
     ]
    }
   ],
   "source": [
    "### We need to tell Grad-CAM where to find the last convolution layer\n",
    "\n",
    "# Print out the layers in the model\n",
    "for layer in model.layers:\n",
    "  print(layer, layer.name)\n",
    "\n",
    "# Go backwards through the model to find the last convolution layer\n",
    "last_conv_layer = None\n",
    "for layer in reversed(model.layers):\n",
    "    if 'conv' in layer.name:\n",
    "        last_conv_layer = layer.name\n",
    "        break\n",
    "\n",
    "# Give a warning if the last convolution layer could not be found\n",
    "if last_conv_layer is not None:\n",
    "  print(\"Last convolution layer found:\", last_conv_layer)\n",
    "else:\n",
    "  print(\"ERROR: Last convolution layer could not be found. Do not continue.\")"
   ]
  },
  {
   "cell_type": "code",
   "execution_count": 18,
   "metadata": {
    "id": "U1fxqDUjnK4K"
   },
   "outputs": [],
   "source": [
    "### Generate class activation heatmap\n",
    "heatmap = make_gradcam_heatmap(images, model, last_conv_layer)"
   ]
  },
  {
   "cell_type": "code",
   "execution_count": 19,
   "metadata": {
    "colab": {
     "base_uri": "https://localhost:8080/",
     "height": 282
    },
    "id": "VaMUlMGYoNYi",
    "outputId": "7b5fdff0-d322-46cb-b6d4-26a8a1527bfd"
   },
   "outputs": [
    {
     "data": {
      "text/plain": [
       "<matplotlib.image.AxesImage at 0x7f45f0556ba8>"
      ]
     },
     "execution_count": 19,
     "metadata": {},
     "output_type": "execute_result"
    },
    {
     "data": {
      "image/png": "[encoded data removed]",
      "text/plain": [
       "<Figure size 432x288 with 1 Axes>"
      ]
     },
     "metadata": {
      "needs_background": "light"
     },
     "output_type": "display_data"
    }
   ],
   "source": [
    "### Draw map\n",
    "plt.imshow(heatmap, cmap='jet', vmin=0.0, vmax=1.0)"
   ]
  },
  {
   "cell_type": "code",
   "execution_count": 20,
   "metadata": {
    "colab": {
     "base_uri": "https://localhost:8080/",
     "height": 282
    },
    "id": "lpBNKFivsKij",
    "outputId": "35605640-f4c5-4966-f6c9-af5f1062a00b"
   },
   "outputs": [
    {
     "data": {
      "text/plain": [
       "<matplotlib.image.AxesImage at 0x7f45f07215c0>"
      ]
     },
     "execution_count": 20,
     "metadata": {},
     "output_type": "execute_result"
    },
    {
     "data": {
      "image/png": "[encoded data removed]",
      "text/plain": [
       "<Figure size 432x288 with 1 Axes>"
      ]
     },
     "metadata": {
      "needs_background": "light"
     },
     "output_type": "display_data"
    }
   ],
   "source": [
    "### Overlay the saliency map on top of the original input image\n",
    "\n",
    "# The heatmap is a lot smaller than the original image, so we upsample it\n",
    "big_heatmap = cv2.resize(heatmap, dsize=(height, width), interpolation=cv2.INTER_CUBIC)\n",
    "\n",
    "# Draw original image with heatmap superimposed over it\n",
    "idx = 0\n",
    "ax = plt.subplot()\n",
    "ax.imshow(images[idx,:,:,0], cmap='gray', vmin=0.0, vmax=1.0)\n",
    "ax.imshow(big_heatmap, cmap='jet', alpha=0.25)"
   ]
  },
  {
   "cell_type": "code",
   "execution_count": null,
   "metadata": {
    "id": "Y7qgiIcndxcB"
   },
   "outputs": [],
   "source": []
  }
 ],
 "metadata": {
  "colab": {
   "collapsed_sections": [],
   "name": "ei-saliency-and-grad-cam.ipynb",
   "provenance": []
  },
  "kernelspec": {
   "display_name": "Python 3",
   "language": "python",
   "name": "python3"
  },
  "language_info": {
   "codemirror_mode": {
    "name": "ipython",
    "version": 3
   },
   "file_extension": ".py",
   "mimetype": "text/x-python",
   "name": "python",
   "nbconvert_exporter": "python",
   "pygments_lexer": "ipython3",
   "version": "3.6.10"
  }
 },
 "nbformat": 4,
 "nbformat_minor": 4
}

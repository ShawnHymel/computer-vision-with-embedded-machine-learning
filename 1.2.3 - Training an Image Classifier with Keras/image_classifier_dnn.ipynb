{
  "cells": [
    {
      "cell_type": "markdown",
      "metadata": {
        "id": "PC2XM9ueyLhu"
      },
      "source": [
        "# Image Classification: Dense Neural Network\n",
        "\n",
        "[![Open In Colab <](https://colab.research.google.com/assets/colab-badge.svg)](https://colab.research.google.com/github/ShawnHymel/computer-vision-with-embedded-machine-learning/blob/master/1.2.3%20-%20Training%20an%20Image%20Classifier%20with%20Keras/image_classifier_dnn.ipynb)\n",
        "\n",
        "Run this notebook to train a dense neural network (DNN) on your own image dataset.\n",
        "\n",
        "Based on: https://colab.research.google.com/github/AviatorMoser/keras-mnist-tutorial/blob/master/MNIST%20in%20Keras.ipynb#scrollTo=rFFriuVPwhAm\n",
        "\n",
        "(I recommend working through the example above, as it has a lot of good descriptions on doing classification with images)\n",
        "\n",
        "Create a folder named \"dataset\" in the /content directory and upload your images there. The images should be divided into their respective classes, where each class has its own folder with the name of the class. For example:\n",
        "\n",
        "<pre>\n",
        "/content\n",
        "    |- dataset\n",
        "        |- background\n",
        "        |- capacitor\n",
        "        |- diode\n",
        "        |- led\n",
        "        |- resistor\n",
        "</pre>\n",
        "\n",
        "Author: EdgeImpulse, Inc.<br>\n",
        "Date: June 5, 2021<br>\n",
        "License: [Apache-2.0](apache.org/licenses/LICENSE-2.0)<br>"
      ]
    },
    {
      "cell_type": "code",
      "execution_count": null,
      "metadata": {
        "id": "jhHG2__GyJjs"
      },
      "outputs": [],
      "source": [
        "import numpy as np\n",
        "import matplotlib.pyplot as plt\n",
        "import random\n",
        "import os\n",
        "import PIL\n",
        "\n",
        "\n",
        "from keras.models import Sequential                       # Type of model we wish to use\n",
        "from keras.layers import Dense, Dropout, Activation  # Types of layers we wish to use\n",
        "\n",
        "from skimage.transform import resize                      # Used to scale/resize image arrays\n",
        "\n",
        "from sklearn.metrics import confusion_matrix              # Used to quickly make confusion matrix"
      ]
    },
    {
      "cell_type": "code",
      "execution_count": null,
      "metadata": {
        "id": "wu2l_Lm0yhtJ"
      },
      "outputs": [],
      "source": [
        "### Settings\n",
        "\n",
        "# Location of dataset\n",
        "DATASET_PATH = \"/content/dataset\"\n",
        "\n",
        "# Desired resolution of images\n",
        "TARGET_WIDTH = 28\n",
        "TARGET_HEIGHT = 28\n",
        "\n",
        "# Invert image (dark backgrounds can sometimes improve accuracy)\n",
        "INVERT = False\n",
        "\n",
        "# Set aside 20% for validation and 20% for test\n",
        "VAL_RATIO = 0.2\n",
        "TEST_RATIO = 0.2\n",
        "\n",
        "# You are welcome to change the seed to try a different validation set split\n",
        "random.seed(42)"
      ]
    },
    {
      "cell_type": "code",
      "execution_count": null,
      "metadata": {
        "colab": {
          "base_uri": "https://localhost:8080/"
        },
        "id": "FXcJLxcv0yOT",
        "outputId": "ab5f2b9c-bd01-4357-c58f-8eadfbf83f17"
      },
      "outputs": [
        {
          "name": "stdout",
          "output_type": "stream",
          "text": [
            "Added 50 images from resistor\n",
            "Added 50 images from background\n",
            "Added 50 images from capacitor\n",
            "Added 50 images from led\n",
            "Added 50 images from diode\n",
            "['background', 'capacitor', 'diode', 'led', 'resistor']\n",
            "Number of samples: 250\n"
          ]
        }
      ],
      "source": [
        "### Load images as Numpy arrays\n",
        "\n",
        "# We want to record the labels and assign a ground truth label as a number to each sample\n",
        "labels = []\n",
        "y_all = []    # Lowercase 'y' - 1D vector of the ground labels (n)\n",
        "X_all = []    # Uppercase 'X' - 3D array of all image samples (n x width x height)\n",
        "\n",
        "# Find the directories in the dataset folder (skip the Jupyter Notebook checkpoints hidden folder)\n",
        "for label in os.listdir(DATASET_PATH):\n",
        "  class_dir = os.path.join(DATASET_PATH, label)\n",
        "  if os.path.isdir(class_dir) and label != \".ipynb_checkpoints\":\n",
        "\n",
        "    # Add the name of the folder to our labels list\n",
        "    labels.append(label)\n",
        "\n",
        "    # Go through each image in the folder\n",
        "    for i, file in enumerate(os.listdir(class_dir)):\n",
        "\n",
        "      # Skip the Jupyter Notebook checkpoints folder that sometimes gets added\n",
        "      if file != \".ipynb_checkpoints\":\n",
        "\n",
        "        # Open image and convert to grayscale\n",
        "        file_path = os.path.join(class_dir, file)\n",
        "        img = PIL.Image.open(file_path).convert('L')\n",
        "\n",
        "        # Convert the image to a Numpy array, optionally invern, and append to X\n",
        "        img_array = np.asarray(img)\n",
        "        if INVERT:\n",
        "          img_array = 255 - img_array\n",
        "        X_all.append(img_array)\n",
        "\n",
        "        # Add label to the y array\n",
        "        y_all.append(label)\n",
        "\n",
        "    # Show how many images we loaded\n",
        "    print(\"Added\", str(i + 1), \"images from\", label)\n",
        "\n",
        "# Calculate total number of samples\n",
        "num_samples = len(X_all)\n",
        "\n",
        "# Sort the labels list by alphabetical order\n",
        "labels = sorted(labels)\n",
        "\n",
        "# Print out labels and number of samples\n",
        "print(labels)\n",
        "print(\"Number of samples:\", num_samples)"
      ]
    },
    {
      "cell_type": "code",
      "execution_count": null,
      "metadata": {
        "colab": {
          "base_uri": "https://localhost:8080/"
        },
        "id": "_ux1q5Z_nFq0",
        "outputId": "1356b43e-13ba-4709-ab4b-66fabbbb91ba"
      },
      "outputs": [
        {
          "name": "stdout",
          "output_type": "stream",
          "text": [
            "Before: ['resistor', 'resistor', 'resistor', 'resistor', 'resistor', 'resistor', 'resistor', 'resistor', 'resistor', 'resistor', 'resistor', 'resistor', 'resistor', 'resistor', 'resistor', 'resistor', 'resistor', 'resistor', 'resistor', 'resistor', 'resistor', 'resistor', 'resistor', 'resistor', 'resistor', 'resistor', 'resistor', 'resistor', 'resistor', 'resistor', 'resistor', 'resistor', 'resistor', 'resistor', 'resistor', 'resistor', 'resistor', 'resistor', 'resistor', 'resistor', 'resistor', 'resistor', 'resistor', 'resistor', 'resistor', 'resistor', 'resistor', 'resistor', 'resistor', 'resistor', 'background', 'background', 'background', 'background', 'background', 'background', 'background', 'background', 'background', 'background', 'background', 'background', 'background', 'background', 'background', 'background', 'background', 'background', 'background', 'background', 'background', 'background', 'background', 'background', 'background', 'background', 'background', 'background', 'background', 'background', 'background', 'background', 'background', 'background', 'background', 'background', 'background', 'background', 'background', 'background', 'background', 'background', 'background', 'background', 'background', 'background', 'background', 'background', 'background', 'background', 'capacitor', 'capacitor', 'capacitor', 'capacitor', 'capacitor', 'capacitor', 'capacitor', 'capacitor', 'capacitor', 'capacitor', 'capacitor', 'capacitor', 'capacitor', 'capacitor', 'capacitor', 'capacitor', 'capacitor', 'capacitor', 'capacitor', 'capacitor', 'capacitor', 'capacitor', 'capacitor', 'capacitor', 'capacitor', 'capacitor', 'capacitor', 'capacitor', 'capacitor', 'capacitor', 'capacitor', 'capacitor', 'capacitor', 'capacitor', 'capacitor', 'capacitor', 'capacitor', 'capacitor', 'capacitor', 'capacitor', 'capacitor', 'capacitor', 'capacitor', 'capacitor', 'capacitor', 'capacitor', 'capacitor', 'capacitor', 'capacitor', 'capacitor', 'led', 'led', 'led', 'led', 'led', 'led', 'led', 'led', 'led', 'led', 'led', 'led', 'led', 'led', 'led', 'led', 'led', 'led', 'led', 'led', 'led', 'led', 'led', 'led', 'led', 'led', 'led', 'led', 'led', 'led', 'led', 'led', 'led', 'led', 'led', 'led', 'led', 'led', 'led', 'led', 'led', 'led', 'led', 'led', 'led', 'led', 'led', 'led', 'led', 'led', 'diode', 'diode', 'diode', 'diode', 'diode', 'diode', 'diode', 'diode', 'diode', 'diode', 'diode', 'diode', 'diode', 'diode', 'diode', 'diode', 'diode', 'diode', 'diode', 'diode', 'diode', 'diode', 'diode', 'diode', 'diode', 'diode', 'diode', 'diode', 'diode', 'diode', 'diode', 'diode', 'diode', 'diode', 'diode', 'diode', 'diode', 'diode', 'diode', 'diode', 'diode', 'diode', 'diode', 'diode', 'diode', 'diode', 'diode', 'diode', 'diode', 'diode']\n",
            "After: [4, 4, 4, 4, 4, 4, 4, 4, 4, 4, 4, 4, 4, 4, 4, 4, 4, 4, 4, 4, 4, 4, 4, 4, 4, 4, 4, 4, 4, 4, 4, 4, 4, 4, 4, 4, 4, 4, 4, 4, 4, 4, 4, 4, 4, 4, 4, 4, 4, 4, 0, 0, 0, 0, 0, 0, 0, 0, 0, 0, 0, 0, 0, 0, 0, 0, 0, 0, 0, 0, 0, 0, 0, 0, 0, 0, 0, 0, 0, 0, 0, 0, 0, 0, 0, 0, 0, 0, 0, 0, 0, 0, 0, 0, 0, 0, 0, 0, 0, 0, 1, 1, 1, 1, 1, 1, 1, 1, 1, 1, 1, 1, 1, 1, 1, 1, 1, 1, 1, 1, 1, 1, 1, 1, 1, 1, 1, 1, 1, 1, 1, 1, 1, 1, 1, 1, 1, 1, 1, 1, 1, 1, 1, 1, 1, 1, 1, 1, 1, 1, 3, 3, 3, 3, 3, 3, 3, 3, 3, 3, 3, 3, 3, 3, 3, 3, 3, 3, 3, 3, 3, 3, 3, 3, 3, 3, 3, 3, 3, 3, 3, 3, 3, 3, 3, 3, 3, 3, 3, 3, 3, 3, 3, 3, 3, 3, 3, 3, 3, 3, 2, 2, 2, 2, 2, 2, 2, 2, 2, 2, 2, 2, 2, 2, 2, 2, 2, 2, 2, 2, 2, 2, 2, 2, 2, 2, 2, 2, 2, 2, 2, 2, 2, 2, 2, 2, 2, 2, 2, 2, 2, 2, 2, 2, 2, 2, 2, 2, 2, 2]\n"
          ]
        }
      ],
      "source": [
        "### Convert labels to numbers\n",
        "\n",
        "# Show the labels before the conversion\n",
        "print(\"Before:\", y_all)\n",
        "\n",
        "# Convert each label to its index in the labels\n",
        "y_out = []\n",
        "for i, label in enumerate(y_all):\n",
        "  y_out.append(labels.index(label))\n",
        "y_all = y_out\n",
        "\n",
        "# Show the labels after the conversion\n",
        "print(\"After:\", y_all)"
      ]
    },
    {
      "cell_type": "code",
      "execution_count": null,
      "metadata": {
        "colab": {
          "base_uri": "https://localhost:8080/"
        },
        "id": "oJrS0Oz31NkI",
        "outputId": "f1fb3469-7628-4141-b9fa-8d1681cce350"
      },
      "outputs": [
        {
          "name": "stdout",
          "output_type": "stream",
          "text": [
            "Number of test samples: 50\n",
            "Number of validation samples: 50\n",
            "Number of training samples: 150\n"
          ]
        }
      ],
      "source": [
        "### Shuffle samples and labels together, divide into test, validation, and training sets\n",
        "\n",
        "# Shuffle samples and associated labels together\n",
        "X_y = list(zip(X_all, y_all))\n",
        "random.shuffle(X_y)\n",
        "X_all, y_all = zip(*X_y)\n",
        "\n",
        "# Calculate number of validation and test samples to put aside (round down)\n",
        "num_samples_test = int(TEST_RATIO * num_samples)\n",
        "num_samples_val = int(VAL_RATIO * num_samples)\n",
        "\n",
        "# The first `num_samples_test` samples of the shuffled list becomes the test set\n",
        "X_test = X_all[:num_samples_test]\n",
        "y_test = y_all[:num_samples_test]\n",
        "\n",
        "# The next `num_samples_val` samples of the shuffled list becomes the validation set\n",
        "X_val = X_all[num_samples_test:(num_samples_test + num_samples_val)]\n",
        "y_val = y_all[num_samples_test:(num_samples_test + num_samples_val)]\n",
        "\n",
        "# The remaining samples become the training set\n",
        "X_train = X_all[(num_samples_test + num_samples_val):]\n",
        "y_train = y_all[(num_samples_test + num_samples_val):]\n",
        "\n",
        "# Remember the number of samples in the test set\n",
        "num_samples_train = len(X_train)\n",
        "\n",
        "# Print out the number of test, validation, and training samples\n",
        "print(\"Number of test samples:\", num_samples_test)\n",
        "print(\"Number of validation samples:\", num_samples_val)\n",
        "print(\"Number of training samples:\", num_samples_train)"
      ]
    },
    {
      "cell_type": "code",
      "execution_count": null,
      "metadata": {
        "colab": {
          "base_uri": "https://localhost:8080/",
          "height": 426
        },
        "id": "6FwDtw_DazYG",
        "outputId": "992dcd2d-29c9-45d9-eccc-b58588d7606c"
      },
      "outputs": [
        {
          "name": "stdout",
          "output_type": "stream",
          "text": [
            "Label: 1 (capacitor)\n",
            "[[152 152 152 ... 154 157 157]\n",
            " [152 152 154 ... 157 157 157]\n",
            " [152 152 154 ... 157 157 157]\n",
            " ...\n",
            " [140 140 140 ... 157 157 157]\n",
            " [140 140 140 ... 157 157 157]\n",
            " [140 140 140 ... 157 157 154]]\n"
          ]
        },
        {
          "data": {
            "text/plain": [
              "<matplotlib.image.AxesImage at 0x7f324e44cf10>"
            ]
          },
          "execution_count": 26,
          "metadata": {
            "tags": []
          },
          "output_type": "execute_result"
        },
        {
          "data": {
            "image/png": "[encoded data removed]",
            "text/plain": [
              "<Figure size 432x288 with 1 Axes>"
            ]
          },
          "metadata": {
            "needs_background": "light",
            "tags": []
          },
          "output_type": "display_data"
        }
      ],
      "source": [
        "### View one of the training samples\n",
        "\n",
        "# Chose which sample you want to view\n",
        "idx = 0\n",
        "\n",
        "# Print out label (numbe and string) and part of the array\n",
        "print(\"Label: \" + str(y_train[idx]) + \" (\" + labels[y_train[idx]] + \")\")\n",
        "print(X_train[idx])\n",
        "\n",
        "# Display image from array\n",
        "plt.imshow(X_train[idx], cmap='gray', vmin=0, vmax=255)"
      ]
    },
    {
      "cell_type": "code",
      "execution_count": null,
      "metadata": {
        "id": "7eVgRZnHc6_y"
      },
      "outputs": [],
      "source": [
        "### Function to resize list of images\n",
        "def resize_images(images, width, height, anti_aliasing=True):\n",
        "  \"\"\"\n",
        "  Prove a list of Numpy arrays (in images parameter) to have them all resized to desired height and\n",
        "  width. Returns the list of newly resized image arrays.\n",
        "\n",
        "  NOTE: skimage resize returns *normalized* image arrays (values between 0..1)\n",
        "  \"\"\"\n",
        "  X_out = []\n",
        "  for i, img in enumerate(images):\n",
        "    X_out.append(resize(img, (height, width), anti_aliasing=anti_aliasing))\n",
        "  return X_out"
      ]
    },
    {
      "cell_type": "code",
      "execution_count": null,
      "metadata": {
        "id": "YNpuq5Lxa9Ck"
      },
      "outputs": [],
      "source": [
        "### Scale/crop images\n",
        "\n",
        "# Resize (scale) all images in the training set\n",
        "X_train = resize_images(X_train, TARGET_WIDTH, TARGET_HEIGHT)\n",
        "\n",
        "# Resize (scale) all images in the validation set\n",
        "X_val = resize_images(X_val, TARGET_WIDTH, TARGET_HEIGHT)\n",
        "\n",
        "# Resize (scale) all images in the test set\n",
        "X_test = resize_images(X_test, TARGET_WIDTH, TARGET_HEIGHT)"
      ]
    },
    {
      "cell_type": "code",
      "execution_count": null,
      "metadata": {
        "colab": {
          "base_uri": "https://localhost:8080/",
          "height": 388
        },
        "id": "tL9W4Pw1cVon",
        "outputId": "df8b2adb-a5e7-448b-939f-5710df8123e7"
      },
      "outputs": [
        {
          "name": "stdout",
          "output_type": "stream",
          "text": [
            "Label: 1 (capacitor)\n",
            "First row: [[0.5929972  0.59607843 0.59607843 0.6        0.60078031 0.60784314\n",
            "  0.60784314 0.61176471 0.61176471 0.61176471 0.61372549 0.61568627\n",
            "  0.61568627 0.61960784 0.62370948 0.62128852 0.62745098 0.62745098\n",
            "  0.62745098 0.62212885 0.61568627 0.61568627 0.61568627 0.61260504\n",
            "  0.61260504 0.61176471 0.61176471 0.61260504]]\n"
          ]
        },
        {
          "data": {
            "text/plain": [
              "<matplotlib.image.AxesImage at 0x7f324e8c33d0>"
            ]
          },
          "execution_count": 29,
          "metadata": {
            "tags": []
          },
          "output_type": "execute_result"
        },
        {
          "data": {
            "image/png": "[encoded data removed]",
            "text/plain": [
              "<Figure size 432x288 with 1 Axes>"
            ]
          },
          "metadata": {
            "needs_background": "light",
            "tags": []
          },
          "output_type": "display_data"
        }
      ],
      "source": [
        "### View training sample again (after they all have been scaled)\n",
        "\n",
        "# Chose which sample you want to view\n",
        "idx = 0\n",
        "\n",
        "# Print out label (numbe and string) and part of the array\n",
        "print(\"Label: \" + str(y_train[idx]) + \" (\" + labels[y_train[idx]] + \")\")\n",
        "print(\"First row:\", X_train[idx][:1,:])\n",
        "\n",
        "# Display image from array (note that images have been normalized)\n",
        "plt.imshow(X_train[idx], cmap='gray', vmin=0, vmax=1)"
      ]
    },
    {
      "cell_type": "code",
      "execution_count": null,
      "metadata": {
        "colab": {
          "base_uri": "https://localhost:8080/"
        },
        "id": "E13XUha044fM",
        "outputId": "ef2d2596-4dfe-4294-f17a-a329f813fa46"
      },
      "outputs": [
        {
          "name": "stdout",
          "output_type": "stream",
          "text": [
            "Training X: (150, 28, 28)\n",
            "Training y: (150,)\n",
            "Validation X: (50, 28, 28)\n",
            "Validation y: (50,)\n",
            "Test X: (50, 28, 28)\n",
            "Test y: (50,)\n"
          ]
        }
      ],
      "source": [
        "### Convert list of samples and labels into Numpy arrays\n",
        "\n",
        "# Training set\n",
        "X_train = np.asarray(X_train)\n",
        "y_train = np.asarray(y_train)\n",
        "\n",
        "# Validation set\n",
        "X_val = np.asarray(X_val)\n",
        "y_val = np.asarray(y_val)\n",
        "\n",
        "# Test set\n",
        "X_test = np.asarray(X_test)\n",
        "y_test = np.asarray(y_test)\n",
        "\n",
        "# Print out the new Numpy array shapes (always a good idea to check the shapes!)\n",
        "print(\"Training X:\", X_train.shape)\n",
        "print(\"Training y:\", y_train.shape)\n",
        "print(\"Validation X:\", X_val.shape)\n",
        "print(\"Validation y:\", y_val.shape)\n",
        "print(\"Test X:\", X_test.shape)\n",
        "print(\"Test y:\", y_test.shape)"
      ]
    },
    {
      "cell_type": "code",
      "execution_count": null,
      "metadata": {
        "colab": {
          "base_uri": "https://localhost:8080/"
        },
        "id": "Bf-p0MnJ9csm",
        "outputId": "fe94b992-0c3e-4b06-c959-4d4451947b50"
      },
      "outputs": [
        {
          "name": "stdout",
          "output_type": "stream",
          "text": [
            "X train: (150, 784)\n",
            "y train: (150,)\n",
            "X val: (50, 784)\n",
            "y val: (50,)\n",
            "X test: (50, 784)\n",
            "y test: (50,)\n",
            "Input tensor shape: (784,)\n"
          ]
        }
      ],
      "source": [
        "### Flatten each image to a 1D vector (DNN requires 1D input)\n",
        "\n",
        "# Compute length of 1D array that we will flatten each image to\n",
        "len_vector = TARGET_WIDTH * TARGET_WIDTH\n",
        "\n",
        "# Flatten matricies to vectors\n",
        "X_train = X_train.reshape(num_samples_train, len_vector)\n",
        "X_val = X_val.reshape(num_samples_val, len_vector)\n",
        "X_test = X_test.reshape(num_samples_test, len_vector)\n",
        "\n",
        "# Determine the input shape for our Keras model (must be tuple)\n",
        "input_shape = (X_train.shape[1],)\n",
        "\n",
        "# Print out shapes\n",
        "print(\"X train:\", X_train.shape)\n",
        "print(\"y train:\", y_train.shape)\n",
        "print(\"X val:\", X_val.shape)\n",
        "print(\"y val:\", y_val.shape)\n",
        "print(\"X test:\", X_test.shape)\n",
        "print(\"y test:\", y_test.shape)\n",
        "print(\"Input tensor shape:\", input_shape)"
      ]
    },
    {
      "cell_type": "code",
      "execution_count": null,
      "metadata": {
        "colab": {
          "base_uri": "https://localhost:8080/"
        },
        "id": "m2D1xsis98pW",
        "outputId": "fcc3f1b2-bd33-4268-8d96-f435062572ed"
      },
      "outputs": [
        {
          "name": "stdout",
          "output_type": "stream",
          "text": [
            "Y train: (150, 5)\n",
            "Y val: (50, 5)\n",
            "Y test: (50, 5)\n",
            "Label: 1 | One-hot: [0. 1. 0. 0. 0.]\n",
            "Label: 1 | One-hot: [0. 1. 0. 0. 0.]\n",
            "Label: 2 | One-hot: [0. 0. 1. 0. 0.]\n",
            "Label: 2 | One-hot: [0. 0. 1. 0. 0.]\n",
            "Label: 2 | One-hot: [0. 0. 1. 0. 0.]\n",
            "Label: 4 | One-hot: [0. 0. 0. 0. 1.]\n",
            "Label: 1 | One-hot: [0. 1. 0. 0. 0.]\n",
            "Label: 3 | One-hot: [0. 0. 0. 1. 0.]\n",
            "Label: 1 | One-hot: [0. 1. 0. 0. 0.]\n",
            "Label: 4 | One-hot: [0. 0. 0. 0. 1.]\n"
          ]
        }
      ],
      "source": [
        "### Convert labels (integers) to one-hot encoding\n",
        "\n",
        "# Get number of classes\n",
        "num_classes = len(labels)\n",
        "\n",
        "# Use np.eye to create one-hot encoding (note the capital 'Y' - 2D array)\n",
        "Y_train = np.eye(num_classes)[y_train]\n",
        "Y_val = np.eye(num_classes)[y_val]\n",
        "Y_test = np.eye(num_classes)[y_test]\n",
        "\n",
        "# Print out shapes (capital 'Y' is our one-hot matrix!)\n",
        "print(\"Y train:\", Y_train.shape)\n",
        "print(\"Y val:\", Y_val.shape)\n",
        "print(\"Y test:\", Y_test.shape)\n",
        "\n",
        "# Print out a few examples from training set\n",
        "for i in range(10):\n",
        "  print(\"Label: \" + str(y_train[i]) + \" | One-hot:\", Y_train[i])"
      ]
    },
    {
      "cell_type": "code",
      "execution_count": null,
      "metadata": {
        "colab": {
          "base_uri": "https://localhost:8080/"
        },
        "id": "uJK-b2ds94w4",
        "outputId": "44ed560e-0ad4-473c-ba70-1a9783086089"
      },
      "outputs": [
        {
          "name": "stdout",
          "output_type": "stream",
          "text": [
            "Model: \"sequential_1\"\n",
            "_________________________________________________________________\n",
            "Layer (type)                 Output Shape              Param #   \n",
            "=================================================================\n",
            "dense_3 (Dense)              (None, 64)                50240     \n",
            "_________________________________________________________________\n",
            "activation_3 (Activation)    (None, 64)                0         \n",
            "_________________________________________________________________\n",
            "dropout_2 (Dropout)          (None, 64)                0         \n",
            "_________________________________________________________________\n",
            "dense_4 (Dense)              (None, 64)                4160      \n",
            "_________________________________________________________________\n",
            "activation_4 (Activation)    (None, 64)                0         \n",
            "_________________________________________________________________\n",
            "dropout_3 (Dropout)          (None, 64)                0         \n",
            "_________________________________________________________________\n",
            "dense_5 (Dense)              (None, 5)                 325       \n",
            "_________________________________________________________________\n",
            "activation_5 (Activation)    (None, 5)                 0         \n",
            "=================================================================\n",
            "Total params: 54,725\n",
            "Trainable params: 54,725\n",
            "Non-trainable params: 0\n",
            "_________________________________________________________________\n",
            "None\n"
          ]
        }
      ],
      "source": [
        "### Construct Keras model\n",
        "\n",
        "# A sequential model is a linear stack of layers\n",
        "model = Sequential()\n",
        "\n",
        "# First layer: fully-connected with relu activation\n",
        "model.add(Dense(64, input_shape=input_shape))\n",
        "model.add(Activation('relu'))\n",
        "model.add(Dropout(0.25))\n",
        "\n",
        "# Second layer: fully-connected with relu activation\n",
        "model.add(Dense(64))   # Input shape is determined automatically from previous layer\n",
        "model.add(Activation('relu'))\n",
        "model.add(Dropout(0.25))\n",
        "\n",
        "# Third layer: 10 nodes, one for each class, and softmax activation\n",
        "model.add(Dense(num_classes))\n",
        "model.add(Activation('softmax'))\n",
        "\n",
        "# Configure the model's training settings\n",
        "model.compile(loss='categorical_crossentropy', optimizer='adam', metrics=['acc'])\n",
        "\n",
        "# Print out model summary\n",
        "print(model.summary())"
      ]
    },
    {
      "cell_type": "code",
      "execution_count": null,
      "metadata": {
        "colab": {
          "base_uri": "https://localhost:8080/"
        },
        "id": "4Rc0O_86pmwb",
        "outputId": "6a3b5b76-dfb0-4f07-b00b-ff45c639ad66"
      },
      "outputs": [
        {
          "name": "stdout",
          "output_type": "stream",
          "text": [
            "Epoch 1/200\n",
            "5/5 [==============================] - 1s 81ms/step - loss: 1.6669 - acc: 0.2490 - val_loss: 1.6163 - val_acc: 0.1800\n",
            "Epoch 2/200\n",
            "5/5 [==============================] - 0s 7ms/step - loss: 1.5504 - acc: 0.3382 - val_loss: 1.4764 - val_acc: 0.4000\n",
            "Epoch 3/200\n",
            "5/5 [==============================] - 0s 7ms/step - loss: 1.4958 - acc: 0.3058 - val_loss: 1.4247 - val_acc: 0.4800\n",
            "Epoch 4/200\n",
            "5/5 [==============================] - 0s 7ms/step - loss: 1.4516 - acc: 0.4172 - val_loss: 1.3677 - val_acc: 0.4800\n",
            "Epoch 5/200\n",
            "5/5 [==============================] - 0s 6ms/step - loss: 1.3600 - acc: 0.5290 - val_loss: 1.3246 - val_acc: 0.5600\n",
            "Epoch 6/200\n",
            "5/5 [==============================] - 0s 6ms/step - loss: 1.2803 - acc: 0.5088 - val_loss: 1.2607 - val_acc: 0.6200\n",
            "Epoch 7/200\n",
            "5/5 [==============================] - 0s 6ms/step - loss: 1.3061 - acc: 0.5599 - val_loss: 1.2293 - val_acc: 0.7200\n",
            "Epoch 8/200\n",
            "5/5 [==============================] - 0s 8ms/step - loss: 1.1804 - acc: 0.6382 - val_loss: 1.1911 - val_acc: 0.4800\n",
            "Epoch 9/200\n",
            "5/5 [==============================] - 0s 7ms/step - loss: 1.1197 - acc: 0.6081 - val_loss: 1.1223 - val_acc: 0.6000\n",
            "Epoch 10/200\n",
            "5/5 [==============================] - 0s 8ms/step - loss: 1.1039 - acc: 0.5024 - val_loss: 1.0375 - val_acc: 0.6400\n",
            "Epoch 11/200\n",
            "5/5 [==============================] - 0s 7ms/step - loss: 1.0866 - acc: 0.5393 - val_loss: 1.0098 - val_acc: 0.6200\n",
            "Epoch 12/200\n",
            "5/5 [==============================] - 0s 7ms/step - loss: 0.9518 - acc: 0.7025 - val_loss: 0.9504 - val_acc: 0.6000\n",
            "Epoch 13/200\n",
            "5/5 [==============================] - 0s 7ms/step - loss: 0.9572 - acc: 0.6060 - val_loss: 0.9225 - val_acc: 0.7000\n",
            "Epoch 14/200\n",
            "5/5 [==============================] - 0s 6ms/step - loss: 0.8677 - acc: 0.6995 - val_loss: 0.8693 - val_acc: 0.7000\n",
            "Epoch 15/200\n",
            "5/5 [==============================] - 0s 6ms/step - loss: 0.8346 - acc: 0.7338 - val_loss: 0.8593 - val_acc: 0.6800\n",
            "Epoch 16/200\n",
            "5/5 [==============================] - 0s 5ms/step - loss: 0.9014 - acc: 0.6357 - val_loss: 0.8191 - val_acc: 0.7000\n",
            "Epoch 17/200\n",
            "5/5 [==============================] - 0s 7ms/step - loss: 0.7659 - acc: 0.7521 - val_loss: 0.7994 - val_acc: 0.6800\n",
            "Epoch 18/200\n",
            "5/5 [==============================] - 0s 6ms/step - loss: 0.7021 - acc: 0.7546 - val_loss: 0.7422 - val_acc: 0.7000\n",
            "Epoch 19/200\n",
            "5/5 [==============================] - 0s 6ms/step - loss: 0.7865 - acc: 0.6240 - val_loss: 0.7428 - val_acc: 0.7000\n",
            "Epoch 20/200\n",
            "5/5 [==============================] - 0s 8ms/step - loss: 0.8339 - acc: 0.7239 - val_loss: 0.7131 - val_acc: 0.7000\n",
            "Epoch 21/200\n",
            "5/5 [==============================] - 0s 8ms/step - loss: 0.7010 - acc: 0.6990 - val_loss: 0.7101 - val_acc: 0.7200\n",
            "Epoch 22/200\n",
            "5/5 [==============================] - 0s 8ms/step - loss: 0.7134 - acc: 0.7511 - val_loss: 0.7009 - val_acc: 0.7000\n",
            "Epoch 23/200\n",
            "5/5 [==============================] - 0s 6ms/step - loss: 0.6891 - acc: 0.7288 - val_loss: 0.6704 - val_acc: 0.8000\n",
            "Epoch 24/200\n",
            "5/5 [==============================] - 0s 6ms/step - loss: 0.6428 - acc: 0.7362 - val_loss: 0.6654 - val_acc: 0.7200\n",
            "Epoch 25/200\n",
            "5/5 [==============================] - 0s 6ms/step - loss: 0.6380 - acc: 0.7018 - val_loss: 0.6572 - val_acc: 0.7400\n",
            "Epoch 26/200\n",
            "5/5 [==============================] - 0s 6ms/step - loss: 0.6070 - acc: 0.7604 - val_loss: 0.6464 - val_acc: 0.7400\n",
            "Epoch 27/200\n",
            "5/5 [==============================] - 0s 6ms/step - loss: 0.5891 - acc: 0.7284 - val_loss: 0.6415 - val_acc: 0.7000\n",
            "Epoch 28/200\n",
            "5/5 [==============================] - 0s 6ms/step - loss: 0.5665 - acc: 0.7531 - val_loss: 0.6396 - val_acc: 0.7000\n",
            "Epoch 29/200\n",
            "5/5 [==============================] - 0s 6ms/step - loss: 0.6083 - acc: 0.7161 - val_loss: 0.6494 - val_acc: 0.7000\n",
            "Epoch 30/200\n",
            "5/5 [==============================] - 0s 7ms/step - loss: 0.5931 - acc: 0.7387 - val_loss: 0.6007 - val_acc: 0.7400\n",
            "Epoch 31/200\n",
            "5/5 [==============================] - 0s 7ms/step - loss: 0.5404 - acc: 0.8100 - val_loss: 0.5854 - val_acc: 0.8400\n",
            "Epoch 32/200\n",
            "5/5 [==============================] - 0s 7ms/step - loss: 0.5668 - acc: 0.7762 - val_loss: 0.5932 - val_acc: 0.7200\n",
            "Epoch 33/200\n",
            "5/5 [==============================] - 0s 6ms/step - loss: 0.4944 - acc: 0.7926 - val_loss: 0.6062 - val_acc: 0.7000\n",
            "Epoch 34/200\n",
            "5/5 [==============================] - 0s 6ms/step - loss: 0.4642 - acc: 0.8292 - val_loss: 0.5963 - val_acc: 0.7200\n",
            "Epoch 35/200\n",
            "5/5 [==============================] - 0s 6ms/step - loss: 0.4871 - acc: 0.7937 - val_loss: 0.5592 - val_acc: 0.9000\n",
            "Epoch 36/200\n",
            "5/5 [==============================] - 0s 7ms/step - loss: 0.4862 - acc: 0.7698 - val_loss: 0.5756 - val_acc: 0.8400\n",
            "Epoch 37/200\n",
            "5/5 [==============================] - 0s 6ms/step - loss: 0.5002 - acc: 0.7868 - val_loss: 0.5903 - val_acc: 0.8800\n",
            "Epoch 38/200\n",
            "5/5 [==============================] - 0s 6ms/step - loss: 0.5012 - acc: 0.7808 - val_loss: 0.5422 - val_acc: 0.8400\n",
            "Epoch 39/200\n",
            "5/5 [==============================] - 0s 6ms/step - loss: 0.4849 - acc: 0.7144 - val_loss: 0.5400 - val_acc: 0.7600\n",
            "Epoch 40/200\n",
            "5/5 [==============================] - 0s 7ms/step - loss: 0.4096 - acc: 0.7956 - val_loss: 0.5787 - val_acc: 0.8600\n",
            "Epoch 41/200\n",
            "5/5 [==============================] - 0s 6ms/step - loss: 0.4235 - acc: 0.8017 - val_loss: 0.5232 - val_acc: 0.9000\n",
            "Epoch 42/200\n",
            "5/5 [==============================] - 0s 6ms/step - loss: 0.4702 - acc: 0.7757 - val_loss: 0.5073 - val_acc: 0.8800\n",
            "Epoch 43/200\n",
            "5/5 [==============================] - 0s 6ms/step - loss: 0.4593 - acc: 0.7983 - val_loss: 0.5179 - val_acc: 0.8800\n",
            "Epoch 44/200\n",
            "5/5 [==============================] - 0s 6ms/step - loss: 0.4306 - acc: 0.8308 - val_loss: 0.5349 - val_acc: 0.8000\n",
            "Epoch 45/200\n",
            "5/5 [==============================] - 0s 6ms/step - loss: 0.5160 - acc: 0.7511 - val_loss: 0.5982 - val_acc: 0.7200\n",
            "Epoch 46/200\n",
            "5/5 [==============================] - 0s 7ms/step - loss: 0.4674 - acc: 0.8135 - val_loss: 0.5472 - val_acc: 0.8600\n",
            "Epoch 47/200\n",
            "5/5 [==============================] - 0s 6ms/step - loss: 0.4906 - acc: 0.7819 - val_loss: 0.5207 - val_acc: 0.8800\n",
            "Epoch 48/200\n",
            "5/5 [==============================] - 0s 6ms/step - loss: 0.5096 - acc: 0.7774 - val_loss: 0.5297 - val_acc: 0.8600\n",
            "Epoch 49/200\n",
            "5/5 [==============================] - 0s 6ms/step - loss: 0.4706 - acc: 0.7674 - val_loss: 0.5368 - val_acc: 0.7200\n",
            "Epoch 50/200\n",
            "5/5 [==============================] - 0s 6ms/step - loss: 0.4801 - acc: 0.7786 - val_loss: 0.5409 - val_acc: 0.7600\n",
            "Epoch 51/200\n",
            "5/5 [==============================] - 0s 7ms/step - loss: 0.3743 - acc: 0.8282 - val_loss: 0.5232 - val_acc: 0.9000\n",
            "Epoch 52/200\n",
            "5/5 [==============================] - 0s 6ms/step - loss: 0.4650 - acc: 0.8326 - val_loss: 0.5002 - val_acc: 0.9000\n",
            "Epoch 53/200\n",
            "5/5 [==============================] - 0s 6ms/step - loss: 0.4122 - acc: 0.8137 - val_loss: 0.4938 - val_acc: 0.8800\n",
            "Epoch 54/200\n",
            "5/5 [==============================] - 0s 6ms/step - loss: 0.3635 - acc: 0.8550 - val_loss: 0.4980 - val_acc: 0.8600\n",
            "Epoch 55/200\n",
            "5/5 [==============================] - 0s 7ms/step - loss: 0.3249 - acc: 0.8765 - val_loss: 0.4894 - val_acc: 0.9200\n",
            "Epoch 56/200\n",
            "5/5 [==============================] - 0s 6ms/step - loss: 0.3100 - acc: 0.8838 - val_loss: 0.5029 - val_acc: 0.9200\n",
            "Epoch 57/200\n",
            "5/5 [==============================] - 0s 10ms/step - loss: 0.3869 - acc: 0.8343 - val_loss: 0.4817 - val_acc: 0.9400\n",
            "Epoch 58/200\n",
            "5/5 [==============================] - 0s 6ms/step - loss: 0.3236 - acc: 0.8529 - val_loss: 0.4751 - val_acc: 0.8800\n",
            "Epoch 59/200\n",
            "5/5 [==============================] - 0s 7ms/step - loss: 0.3136 - acc: 0.8647 - val_loss: 0.5048 - val_acc: 0.9200\n",
            "Epoch 60/200\n",
            "5/5 [==============================] - 0s 6ms/step - loss: 0.3636 - acc: 0.8419 - val_loss: 0.4871 - val_acc: 0.8600\n",
            "Epoch 61/200\n",
            "5/5 [==============================] - 0s 6ms/step - loss: 0.3814 - acc: 0.8322 - val_loss: 0.4701 - val_acc: 0.9200\n",
            "Epoch 62/200\n",
            "5/5 [==============================] - 0s 8ms/step - loss: 0.3622 - acc: 0.8234 - val_loss: 0.4520 - val_acc: 0.9200\n",
            "Epoch 63/200\n",
            "5/5 [==============================] - 0s 6ms/step - loss: 0.3727 - acc: 0.8404 - val_loss: 0.4607 - val_acc: 0.9200\n",
            "Epoch 64/200\n",
            "5/5 [==============================] - 0s 7ms/step - loss: 0.4242 - acc: 0.7723 - val_loss: 0.4974 - val_acc: 0.8800\n",
            "Epoch 65/200\n",
            "5/5 [==============================] - 0s 6ms/step - loss: 0.3038 - acc: 0.9068 - val_loss: 0.4937 - val_acc: 0.8600\n",
            "Epoch 66/200\n",
            "5/5 [==============================] - 0s 7ms/step - loss: 0.3215 - acc: 0.8652 - val_loss: 0.4620 - val_acc: 0.9000\n",
            "Epoch 67/200\n",
            "5/5 [==============================] - 0s 8ms/step - loss: 0.3026 - acc: 0.8744 - val_loss: 0.4407 - val_acc: 0.9400\n",
            "Epoch 68/200\n",
            "5/5 [==============================] - 0s 6ms/step - loss: 0.3102 - acc: 0.8888 - val_loss: 0.4285 - val_acc: 0.9600\n",
            "Epoch 69/200\n",
            "5/5 [==============================] - 0s 7ms/step - loss: 0.3138 - acc: 0.9123 - val_loss: 0.4578 - val_acc: 0.8600\n",
            "Epoch 70/200\n",
            "5/5 [==============================] - 0s 7ms/step - loss: 0.3024 - acc: 0.8825 - val_loss: 0.4525 - val_acc: 0.9200\n",
            "Epoch 71/200\n",
            "5/5 [==============================] - 0s 7ms/step - loss: 0.3722 - acc: 0.8165 - val_loss: 0.4480 - val_acc: 0.8800\n",
            "Epoch 72/200\n",
            "5/5 [==============================] - 0s 6ms/step - loss: 0.3330 - acc: 0.8678 - val_loss: 0.4532 - val_acc: 0.9600\n",
            "Epoch 73/200\n",
            "5/5 [==============================] - 0s 6ms/step - loss: 0.2949 - acc: 0.8785 - val_loss: 0.4650 - val_acc: 0.9200\n",
            "Epoch 74/200\n",
            "5/5 [==============================] - 0s 6ms/step - loss: 0.3280 - acc: 0.8480 - val_loss: 0.4304 - val_acc: 0.9200\n",
            "Epoch 75/200\n",
            "5/5 [==============================] - 0s 6ms/step - loss: 0.2713 - acc: 0.8981 - val_loss: 0.4483 - val_acc: 0.9000\n",
            "Epoch 76/200\n",
            "5/5 [==============================] - 0s 7ms/step - loss: 0.2751 - acc: 0.8975 - val_loss: 0.4443 - val_acc: 0.9000\n",
            "Epoch 77/200\n",
            "5/5 [==============================] - 0s 7ms/step - loss: 0.3161 - acc: 0.8906 - val_loss: 0.4813 - val_acc: 0.9000\n",
            "Epoch 78/200\n",
            "5/5 [==============================] - 0s 7ms/step - loss: 0.3519 - acc: 0.8261 - val_loss: 0.4630 - val_acc: 0.9000\n",
            "Epoch 79/200\n",
            "5/5 [==============================] - 0s 7ms/step - loss: 0.3628 - acc: 0.8582 - val_loss: 0.4186 - val_acc: 0.9200\n",
            "Epoch 80/200\n",
            "5/5 [==============================] - 0s 8ms/step - loss: 0.2699 - acc: 0.9247 - val_loss: 0.4345 - val_acc: 0.9400\n",
            "Epoch 81/200\n",
            "5/5 [==============================] - 0s 8ms/step - loss: 0.3178 - acc: 0.8907 - val_loss: 0.4345 - val_acc: 0.9200\n",
            "Epoch 82/200\n",
            "5/5 [==============================] - 0s 7ms/step - loss: 0.3118 - acc: 0.8681 - val_loss: 0.3944 - val_acc: 0.9200\n",
            "Epoch 83/200\n",
            "5/5 [==============================] - 0s 6ms/step - loss: 0.2382 - acc: 0.9098 - val_loss: 0.3994 - val_acc: 0.9200\n",
            "Epoch 84/200\n",
            "5/5 [==============================] - 0s 7ms/step - loss: 0.3022 - acc: 0.8866 - val_loss: 0.4053 - val_acc: 0.9600\n",
            "Epoch 85/200\n",
            "5/5 [==============================] - 0s 6ms/step - loss: 0.2867 - acc: 0.8849 - val_loss: 0.4303 - val_acc: 0.9200\n",
            "Epoch 86/200\n",
            "5/5 [==============================] - 0s 7ms/step - loss: 0.2957 - acc: 0.8951 - val_loss: 0.3728 - val_acc: 0.9000\n",
            "Epoch 87/200\n",
            "5/5 [==============================] - 0s 8ms/step - loss: 0.2220 - acc: 0.9306 - val_loss: 0.3783 - val_acc: 0.8800\n",
            "Epoch 88/200\n",
            "5/5 [==============================] - 0s 7ms/step - loss: 0.3007 - acc: 0.8871 - val_loss: 0.4352 - val_acc: 0.8800\n",
            "Epoch 89/200\n",
            "5/5 [==============================] - 0s 7ms/step - loss: 0.3239 - acc: 0.9161 - val_loss: 0.4057 - val_acc: 0.9400\n",
            "Epoch 90/200\n",
            "5/5 [==============================] - 0s 9ms/step - loss: 0.2583 - acc: 0.9068 - val_loss: 0.4052 - val_acc: 0.8800\n",
            "Epoch 91/200\n",
            "5/5 [==============================] - 0s 6ms/step - loss: 0.2558 - acc: 0.9167 - val_loss: 0.4434 - val_acc: 0.8600\n",
            "Epoch 92/200\n",
            "5/5 [==============================] - 0s 6ms/step - loss: 0.2713 - acc: 0.8479 - val_loss: 0.3880 - val_acc: 0.9000\n",
            "Epoch 93/200\n",
            "5/5 [==============================] - 0s 6ms/step - loss: 0.1830 - acc: 0.9461 - val_loss: 0.3982 - val_acc: 0.9000\n",
            "Epoch 94/200\n",
            "5/5 [==============================] - 0s 7ms/step - loss: 0.2688 - acc: 0.9104 - val_loss: 0.4400 - val_acc: 0.8800\n",
            "Epoch 95/200\n",
            "5/5 [==============================] - 0s 7ms/step - loss: 0.2985 - acc: 0.8946 - val_loss: 0.4486 - val_acc: 0.9200\n",
            "Epoch 96/200\n",
            "5/5 [==============================] - 0s 7ms/step - loss: 0.2572 - acc: 0.9037 - val_loss: 0.3848 - val_acc: 0.9600\n",
            "Epoch 97/200\n",
            "5/5 [==============================] - 0s 9ms/step - loss: 0.2532 - acc: 0.8994 - val_loss: 0.4239 - val_acc: 0.8600\n",
            "Epoch 98/200\n",
            "5/5 [==============================] - 0s 7ms/step - loss: 0.2518 - acc: 0.9068 - val_loss: 0.3957 - val_acc: 0.9400\n",
            "Epoch 99/200\n",
            "5/5 [==============================] - 0s 8ms/step - loss: 0.2790 - acc: 0.8798 - val_loss: 0.3708 - val_acc: 0.9200\n",
            "Epoch 100/200\n",
            "5/5 [==============================] - 0s 7ms/step - loss: 0.1955 - acc: 0.9443 - val_loss: 0.3685 - val_acc: 0.9200\n",
            "Epoch 101/200\n",
            "5/5 [==============================] - 0s 6ms/step - loss: 0.2125 - acc: 0.9310 - val_loss: 0.3990 - val_acc: 0.9000\n",
            "Epoch 102/200\n",
            "5/5 [==============================] - 0s 8ms/step - loss: 0.2365 - acc: 0.9138 - val_loss: 0.3792 - val_acc: 0.9200\n",
            "Epoch 103/200\n",
            "5/5 [==============================] - 0s 6ms/step - loss: 0.1886 - acc: 0.9501 - val_loss: 0.3749 - val_acc: 0.9200\n",
            "Epoch 104/200\n",
            "5/5 [==============================] - 0s 7ms/step - loss: 0.2048 - acc: 0.9387 - val_loss: 0.4343 - val_acc: 0.8800\n",
            "Epoch 105/200\n",
            "5/5 [==============================] - 0s 6ms/step - loss: 0.2633 - acc: 0.9047 - val_loss: 0.3609 - val_acc: 0.9400\n",
            "Epoch 106/200\n",
            "5/5 [==============================] - 0s 7ms/step - loss: 0.2375 - acc: 0.9301 - val_loss: 0.3964 - val_acc: 0.8800\n",
            "Epoch 107/200\n",
            "5/5 [==============================] - 0s 10ms/step - loss: 0.2123 - acc: 0.9029 - val_loss: 0.3874 - val_acc: 0.9200\n",
            "Epoch 108/200\n",
            "5/5 [==============================] - 0s 7ms/step - loss: 0.2142 - acc: 0.9256 - val_loss: 0.4149 - val_acc: 0.9400\n",
            "Epoch 109/200\n",
            "5/5 [==============================] - 0s 7ms/step - loss: 0.1493 - acc: 0.9649 - val_loss: 0.3665 - val_acc: 0.9000\n",
            "Epoch 110/200\n",
            "5/5 [==============================] - 0s 6ms/step - loss: 0.1857 - acc: 0.9554 - val_loss: 0.3738 - val_acc: 0.8800\n",
            "Epoch 111/200\n",
            "5/5 [==============================] - 0s 7ms/step - loss: 0.1742 - acc: 0.9335 - val_loss: 0.4091 - val_acc: 0.9000\n",
            "Epoch 112/200\n",
            "5/5 [==============================] - 0s 6ms/step - loss: 0.1754 - acc: 0.9234 - val_loss: 0.3897 - val_acc: 0.9000\n",
            "Epoch 113/200\n",
            "5/5 [==============================] - 0s 6ms/step - loss: 0.1820 - acc: 0.9164 - val_loss: 0.3716 - val_acc: 0.9400\n",
            "Epoch 114/200\n",
            "5/5 [==============================] - 0s 7ms/step - loss: 0.2444 - acc: 0.9068 - val_loss: 0.3720 - val_acc: 0.8800\n",
            "Epoch 115/200\n",
            "5/5 [==============================] - 0s 8ms/step - loss: 0.1810 - acc: 0.9259 - val_loss: 0.3659 - val_acc: 0.9200\n",
            "Epoch 116/200\n",
            "5/5 [==============================] - 0s 7ms/step - loss: 0.1826 - acc: 0.9272 - val_loss: 0.4545 - val_acc: 0.8800\n",
            "Epoch 117/200\n",
            "5/5 [==============================] - 0s 6ms/step - loss: 0.2089 - acc: 0.9270 - val_loss: 0.3898 - val_acc: 0.9400\n",
            "Epoch 118/200\n",
            "5/5 [==============================] - 0s 9ms/step - loss: 0.2050 - acc: 0.9256 - val_loss: 0.4068 - val_acc: 0.8800\n",
            "Epoch 119/200\n",
            "5/5 [==============================] - 0s 7ms/step - loss: 0.1577 - acc: 0.9628 - val_loss: 0.3703 - val_acc: 0.9000\n",
            "Epoch 120/200\n",
            "5/5 [==============================] - 0s 7ms/step - loss: 0.2238 - acc: 0.9039 - val_loss: 0.3972 - val_acc: 0.9000\n",
            "Epoch 121/200\n",
            "5/5 [==============================] - 0s 6ms/step - loss: 0.2063 - acc: 0.9340 - val_loss: 0.3657 - val_acc: 0.9000\n",
            "Epoch 122/200\n",
            "5/5 [==============================] - 0s 8ms/step - loss: 0.1507 - acc: 0.9401 - val_loss: 0.3675 - val_acc: 0.8800\n",
            "Epoch 123/200\n",
            "5/5 [==============================] - 0s 7ms/step - loss: 0.1539 - acc: 0.9580 - val_loss: 0.3706 - val_acc: 0.8800\n",
            "Epoch 124/200\n",
            "5/5 [==============================] - 0s 8ms/step - loss: 0.1430 - acc: 0.9710 - val_loss: 0.4211 - val_acc: 0.9000\n",
            "Epoch 125/200\n",
            "5/5 [==============================] - 0s 8ms/step - loss: 0.2351 - acc: 0.9038 - val_loss: 0.3656 - val_acc: 0.8800\n",
            "Epoch 126/200\n",
            "5/5 [==============================] - 0s 7ms/step - loss: 0.1758 - acc: 0.9449 - val_loss: 0.3547 - val_acc: 0.9000\n",
            "Epoch 127/200\n",
            "5/5 [==============================] - 0s 7ms/step - loss: 0.1869 - acc: 0.9436 - val_loss: 0.3566 - val_acc: 0.9200\n",
            "Epoch 128/200\n",
            "5/5 [==============================] - 0s 8ms/step - loss: 0.1616 - acc: 0.9589 - val_loss: 0.3306 - val_acc: 0.9200\n",
            "Epoch 129/200\n",
            "5/5 [==============================] - 0s 6ms/step - loss: 0.1683 - acc: 0.9636 - val_loss: 0.3776 - val_acc: 0.8800\n",
            "Epoch 130/200\n",
            "5/5 [==============================] - 0s 8ms/step - loss: 0.1655 - acc: 0.9453 - val_loss: 0.3651 - val_acc: 0.9400\n",
            "Epoch 131/200\n",
            "5/5 [==============================] - 0s 9ms/step - loss: 0.1565 - acc: 0.9156 - val_loss: 0.3623 - val_acc: 0.9200\n",
            "Epoch 132/200\n",
            "5/5 [==============================] - 0s 6ms/step - loss: 0.1663 - acc: 0.9369 - val_loss: 0.3724 - val_acc: 0.8800\n",
            "Epoch 133/200\n",
            "5/5 [==============================] - 0s 7ms/step - loss: 0.2029 - acc: 0.8964 - val_loss: 0.3432 - val_acc: 0.9400\n",
            "Epoch 134/200\n",
            "5/5 [==============================] - 0s 7ms/step - loss: 0.2474 - acc: 0.9288 - val_loss: 0.3647 - val_acc: 0.9000\n",
            "Epoch 135/200\n",
            "5/5 [==============================] - 0s 7ms/step - loss: 0.1543 - acc: 0.9645 - val_loss: 0.3453 - val_acc: 0.9000\n",
            "Epoch 136/200\n",
            "5/5 [==============================] - 0s 10ms/step - loss: 0.1417 - acc: 0.9545 - val_loss: 0.3814 - val_acc: 0.9000\n",
            "Epoch 137/200\n",
            "5/5 [==============================] - 0s 6ms/step - loss: 0.1462 - acc: 0.9611 - val_loss: 0.4009 - val_acc: 0.8800\n",
            "Epoch 138/200\n",
            "5/5 [==============================] - 0s 6ms/step - loss: 0.1224 - acc: 0.9641 - val_loss: 0.3857 - val_acc: 0.9200\n",
            "Epoch 139/200\n",
            "5/5 [==============================] - 0s 7ms/step - loss: 0.1284 - acc: 0.9553 - val_loss: 0.3979 - val_acc: 0.9000\n",
            "Epoch 140/200\n",
            "5/5 [==============================] - 0s 6ms/step - loss: 0.1355 - acc: 0.9439 - val_loss: 0.3504 - val_acc: 0.9400\n",
            "Epoch 141/200\n",
            "5/5 [==============================] - 0s 7ms/step - loss: 0.1302 - acc: 0.9566 - val_loss: 0.4021 - val_acc: 0.8800\n",
            "Epoch 142/200\n",
            "5/5 [==============================] - 0s 6ms/step - loss: 0.2156 - acc: 0.9156 - val_loss: 0.3928 - val_acc: 0.9000\n",
            "Epoch 143/200\n",
            "5/5 [==============================] - 0s 7ms/step - loss: 0.1452 - acc: 0.9571 - val_loss: 0.4109 - val_acc: 0.8800\n",
            "Epoch 144/200\n",
            "5/5 [==============================] - 0s 7ms/step - loss: 0.0839 - acc: 0.9829 - val_loss: 0.4271 - val_acc: 0.9200\n",
            "Epoch 145/200\n",
            "5/5 [==============================] - 0s 7ms/step - loss: 0.1365 - acc: 0.9606 - val_loss: 0.3677 - val_acc: 0.9000\n",
            "Epoch 146/200\n",
            "5/5 [==============================] - 0s 7ms/step - loss: 0.1314 - acc: 0.9655 - val_loss: 0.4177 - val_acc: 0.9000\n",
            "Epoch 147/200\n",
            "5/5 [==============================] - 0s 7ms/step - loss: 0.1708 - acc: 0.9319 - val_loss: 0.4082 - val_acc: 0.9000\n",
            "Epoch 148/200\n",
            "5/5 [==============================] - 0s 6ms/step - loss: 0.2087 - acc: 0.9258 - val_loss: 0.4119 - val_acc: 0.8800\n",
            "Epoch 149/200\n",
            "5/5 [==============================] - 0s 7ms/step - loss: 0.1072 - acc: 0.9738 - val_loss: 0.3894 - val_acc: 0.9000\n",
            "Epoch 150/200\n",
            "5/5 [==============================] - 0s 6ms/step - loss: 0.0859 - acc: 0.9754 - val_loss: 0.3757 - val_acc: 0.9000\n",
            "Epoch 151/200\n",
            "5/5 [==============================] - 0s 7ms/step - loss: 0.2021 - acc: 0.9053 - val_loss: 0.4036 - val_acc: 0.9000\n",
            "Epoch 152/200\n",
            "5/5 [==============================] - 0s 7ms/step - loss: 0.1646 - acc: 0.9253 - val_loss: 0.4105 - val_acc: 0.9200\n",
            "Epoch 153/200\n",
            "5/5 [==============================] - 0s 7ms/step - loss: 0.1105 - acc: 0.9658 - val_loss: 0.3728 - val_acc: 0.9000\n",
            "Epoch 154/200\n",
            "5/5 [==============================] - 0s 6ms/step - loss: 0.1347 - acc: 0.9535 - val_loss: 0.3796 - val_acc: 0.9000\n",
            "Epoch 155/200\n",
            "5/5 [==============================] - 0s 7ms/step - loss: 0.1218 - acc: 0.9482 - val_loss: 0.4500 - val_acc: 0.9200\n",
            "Epoch 156/200\n",
            "5/5 [==============================] - 0s 9ms/step - loss: 0.1596 - acc: 0.9483 - val_loss: 0.3942 - val_acc: 0.9000\n",
            "Epoch 157/200\n",
            "5/5 [==============================] - 0s 7ms/step - loss: 0.1403 - acc: 0.9265 - val_loss: 0.4184 - val_acc: 0.9200\n",
            "Epoch 158/200\n",
            "5/5 [==============================] - 0s 6ms/step - loss: 0.1300 - acc: 0.9578 - val_loss: 0.4437 - val_acc: 0.9000\n",
            "Epoch 159/200\n",
            "5/5 [==============================] - 0s 7ms/step - loss: 0.1377 - acc: 0.9400 - val_loss: 0.4105 - val_acc: 0.9600\n",
            "Epoch 160/200\n",
            "5/5 [==============================] - 0s 6ms/step - loss: 0.1759 - acc: 0.9329 - val_loss: 0.4272 - val_acc: 0.8800\n",
            "Epoch 161/200\n",
            "5/5 [==============================] - 0s 6ms/step - loss: 0.2011 - acc: 0.9294 - val_loss: 0.4902 - val_acc: 0.8800\n",
            "Epoch 162/200\n",
            "5/5 [==============================] - 0s 6ms/step - loss: 0.1694 - acc: 0.9684 - val_loss: 0.3728 - val_acc: 0.9800\n",
            "Epoch 163/200\n",
            "5/5 [==============================] - 0s 7ms/step - loss: 0.1818 - acc: 0.9248 - val_loss: 0.4090 - val_acc: 0.9400\n",
            "Epoch 164/200\n",
            "5/5 [==============================] - 0s 8ms/step - loss: 0.2199 - acc: 0.9213 - val_loss: 0.4016 - val_acc: 0.9000\n",
            "Epoch 165/200\n",
            "5/5 [==============================] - 0s 6ms/step - loss: 0.1513 - acc: 0.9550 - val_loss: 0.3739 - val_acc: 0.9400\n",
            "Epoch 166/200\n",
            "5/5 [==============================] - 0s 6ms/step - loss: 0.1213 - acc: 0.9598 - val_loss: 0.3859 - val_acc: 0.9000\n",
            "Epoch 167/200\n",
            "5/5 [==============================] - 0s 8ms/step - loss: 0.1667 - acc: 0.9169 - val_loss: 0.3619 - val_acc: 0.9000\n",
            "Epoch 168/200\n",
            "5/5 [==============================] - 0s 7ms/step - loss: 0.1071 - acc: 0.9619 - val_loss: 0.3761 - val_acc: 0.9000\n",
            "Epoch 169/200\n",
            "5/5 [==============================] - 0s 7ms/step - loss: 0.1100 - acc: 0.9716 - val_loss: 0.4064 - val_acc: 0.8800\n",
            "Epoch 170/200\n",
            "5/5 [==============================] - 0s 8ms/step - loss: 0.1484 - acc: 0.9402 - val_loss: 0.4075 - val_acc: 0.9200\n",
            "Epoch 171/200\n",
            "5/5 [==============================] - 0s 7ms/step - loss: 0.1487 - acc: 0.9471 - val_loss: 0.4394 - val_acc: 0.9400\n",
            "Epoch 172/200\n",
            "5/5 [==============================] - 0s 6ms/step - loss: 0.0965 - acc: 0.9834 - val_loss: 0.4844 - val_acc: 0.8800\n",
            "Epoch 173/200\n",
            "5/5 [==============================] - 0s 6ms/step - loss: 0.1802 - acc: 0.9074 - val_loss: 0.4162 - val_acc: 0.9200\n",
            "Epoch 174/200\n",
            "5/5 [==============================] - 0s 7ms/step - loss: 0.1227 - acc: 0.9506 - val_loss: 0.3803 - val_acc: 0.9200\n",
            "Epoch 175/200\n",
            "5/5 [==============================] - 0s 6ms/step - loss: 0.1358 - acc: 0.9414 - val_loss: 0.3765 - val_acc: 0.9000\n",
            "Epoch 176/200\n",
            "5/5 [==============================] - 0s 6ms/step - loss: 0.0976 - acc: 0.9762 - val_loss: 0.4071 - val_acc: 0.9000\n",
            "Epoch 177/200\n",
            "5/5 [==============================] - 0s 6ms/step - loss: 0.1744 - acc: 0.9510 - val_loss: 0.4268 - val_acc: 0.9000\n",
            "Epoch 178/200\n",
            "5/5 [==============================] - 0s 7ms/step - loss: 0.0986 - acc: 0.9763 - val_loss: 0.4057 - val_acc: 0.9200\n",
            "Epoch 179/200\n",
            "5/5 [==============================] - 0s 7ms/step - loss: 0.1010 - acc: 0.9728 - val_loss: 0.4087 - val_acc: 0.9000\n",
            "Epoch 180/200\n",
            "5/5 [==============================] - 0s 7ms/step - loss: 0.1428 - acc: 0.9585 - val_loss: 0.3844 - val_acc: 0.9200\n",
            "Epoch 181/200\n",
            "5/5 [==============================] - 0s 7ms/step - loss: 0.1326 - acc: 0.9536 - val_loss: 0.5118 - val_acc: 0.9200\n",
            "Epoch 182/200\n",
            "5/5 [==============================] - 0s 8ms/step - loss: 0.1301 - acc: 0.9701 - val_loss: 0.4445 - val_acc: 0.8800\n",
            "Epoch 183/200\n",
            "5/5 [==============================] - 0s 7ms/step - loss: 0.1199 - acc: 0.9540 - val_loss: 0.3828 - val_acc: 0.9200\n",
            "Epoch 184/200\n",
            "5/5 [==============================] - 0s 6ms/step - loss: 0.2223 - acc: 0.9068 - val_loss: 0.4036 - val_acc: 0.9000\n",
            "Epoch 185/200\n",
            "5/5 [==============================] - 0s 8ms/step - loss: 0.1134 - acc: 0.9793 - val_loss: 0.4663 - val_acc: 0.8800\n",
            "Epoch 186/200\n",
            "5/5 [==============================] - 0s 7ms/step - loss: 0.1588 - acc: 0.9369 - val_loss: 0.4706 - val_acc: 0.9200\n",
            "Epoch 187/200\n",
            "5/5 [==============================] - 0s 7ms/step - loss: 0.1734 - acc: 0.9318 - val_loss: 0.4256 - val_acc: 0.9400\n",
            "Epoch 188/200\n",
            "5/5 [==============================] - 0s 9ms/step - loss: 0.1555 - acc: 0.9565 - val_loss: 0.4231 - val_acc: 0.9000\n",
            "Epoch 189/200\n",
            "5/5 [==============================] - 0s 7ms/step - loss: 0.1645 - acc: 0.9601 - val_loss: 0.3978 - val_acc: 0.9200\n",
            "Epoch 190/200\n",
            "5/5 [==============================] - 0s 7ms/step - loss: 0.2204 - acc: 0.9235 - val_loss: 0.4035 - val_acc: 0.9000\n",
            "Epoch 191/200\n",
            "5/5 [==============================] - 0s 7ms/step - loss: 0.1152 - acc: 0.9872 - val_loss: 0.3817 - val_acc: 0.9000\n",
            "Epoch 192/200\n",
            "5/5 [==============================] - 0s 6ms/step - loss: 0.1257 - acc: 0.9684 - val_loss: 0.4335 - val_acc: 0.8800\n",
            "Epoch 193/200\n",
            "5/5 [==============================] - 0s 6ms/step - loss: 0.1240 - acc: 0.9494 - val_loss: 0.4357 - val_acc: 0.9200\n",
            "Epoch 194/200\n",
            "5/5 [==============================] - 0s 6ms/step - loss: 0.1489 - acc: 0.9334 - val_loss: 0.4097 - val_acc: 0.9000\n",
            "Epoch 195/200\n",
            "5/5 [==============================] - 0s 8ms/step - loss: 0.1522 - acc: 0.9379 - val_loss: 0.4162 - val_acc: 0.9200\n",
            "Epoch 196/200\n",
            "5/5 [==============================] - 0s 8ms/step - loss: 0.1259 - acc: 0.9645 - val_loss: 0.4011 - val_acc: 0.9400\n",
            "Epoch 197/200\n",
            "5/5 [==============================] - 0s 7ms/step - loss: 0.1218 - acc: 0.9572 - val_loss: 0.4797 - val_acc: 0.9000\n",
            "Epoch 198/200\n",
            "5/5 [==============================] - 0s 8ms/step - loss: 0.1138 - acc: 0.9785 - val_loss: 0.4374 - val_acc: 0.9200\n",
            "Epoch 199/200\n",
            "5/5 [==============================] - 0s 9ms/step - loss: 0.1209 - acc: 0.9537 - val_loss: 0.3953 - val_acc: 0.9200\n",
            "Epoch 200/200\n",
            "5/5 [==============================] - 0s 7ms/step - loss: 0.0750 - acc: 0.9925 - val_loss: 0.4141 - val_acc: 0.9000\n"
          ]
        }
      ],
      "source": [
        "### Train the model\n",
        "history = model.fit(X_train, \n",
        "                    Y_train, \n",
        "                    batch_size=32, \n",
        "                    epochs=200, \n",
        "                    verbose=1,\n",
        "                    validation_data=(X_val, Y_val))"
      ]
    },
    {
      "cell_type": "code",
      "execution_count": null,
      "metadata": {
        "colab": {
          "base_uri": "https://localhost:8080/",
          "height": 545
        },
        "id": "qJnFOLndpoN9",
        "outputId": "25251b4b-3b0e-4460-e8d3-f8461518b8a6"
      },
      "outputs": [
        {
          "data": {
            "image/png": "[encoded data removed]",
            "text/plain": [
              "<Figure size 432x288 with 1 Axes>"
            ]
          },
          "metadata": {
            "needs_background": "light",
            "tags": []
          },
          "output_type": "display_data"
        },
        {
          "data": {
            "image/png": "[encoded data removed]",
            "text/plain": [
              "<Figure size 432x288 with 1 Axes>"
            ]
          },
          "metadata": {
            "needs_background": "light",
            "tags": []
          },
          "output_type": "display_data"
        }
      ],
      "source": [
        "### Plot training and validation accuracy and loss over time\n",
        "\n",
        "# Extract accuracy and loss values (in list form) from the history\n",
        "acc = history.history['acc']\n",
        "val_acc = history.history['val_acc']\n",
        "loss = history.history['loss']\n",
        "val_loss = history.history['val_loss']\n",
        "\n",
        "# Create a list of epoch numbers\n",
        "epochs = range(1, len(acc) + 1)\n",
        "\n",
        "# Plot training and validation loss values over time\n",
        "plt.figure()\n",
        "plt.plot(epochs, loss, color='blue', marker='.', label='Training loss')\n",
        "plt.plot(epochs, val_loss, color='orange', marker='.', label='Validation loss')\n",
        "plt.title('Training and validation loss')\n",
        "plt.legend()\n",
        "\n",
        "# Plot training and validation accuracies over time\n",
        "plt.figure()\n",
        "plt.plot(epochs, acc, color='blue', marker='.', label='Training acc')\n",
        "plt.plot(epochs, val_acc, color='orange', marker='.', label='Validation acc')\n",
        "plt.title('Training and validation accuracy')\n",
        "plt.legend()\n",
        "plt.show()"
      ]
    },
    {
      "cell_type": "code",
      "execution_count": null,
      "metadata": {
        "colab": {
          "base_uri": "https://localhost:8080/"
        },
        "id": "kgmX9gfJpq-L",
        "outputId": "3464b9c1-743b-45c2-84d5-a8bd10e2cfec"
      },
      "outputs": [
        {
          "name": "stdout",
          "output_type": "stream",
          "text": [
            "Model output: [[2.2272062e-03 9.5557326e-01 7.4271607e-04 2.3553539e-02 1.7903231e-02]]\n",
            "Predicted label: 1 - capacitor\n",
            "Actual label: 1 - capacitor\n"
          ]
        }
      ],
      "source": [
        "### Try predicting label with one validation sample (inference)\n",
        "\n",
        "# Change this to try a different sample from the test set\n",
        "idx = 0\n",
        "\n",
        "# Make sample 2D array instead of 1D vector (this is what the Keras model expects as input)\n",
        "x = np.expand_dims(X_val[idx], 0)\n",
        "\n",
        "# Make prediction using trained model\n",
        "y_pred = model.predict(x)\n",
        "\n",
        "# Find index of highest score in output\n",
        "predicted_label = np.argmax(y_pred)\n",
        "actual_label = np.argmax(Y_val[idx])\n",
        "\n",
        "# Display model output, predicted label, actual label\n",
        "print(\"Model output:\", y_pred)\n",
        "print(\"Predicted label:\", predicted_label, \"-\", labels[predicted_label])\n",
        "print(\"Actual label:\", actual_label, \"-\", labels[actual_label])"
      ]
    },
    {
      "cell_type": "code",
      "execution_count": null,
      "metadata": {
        "colab": {
          "base_uri": "https://localhost:8080/"
        },
        "id": "0Lo3KWpjptJk",
        "outputId": "5a8c3e95-a09b-42cb-937f-34be47fcdd38"
      },
      "outputs": [
        {
          "name": "stdout",
          "output_type": "stream",
          "text": [
            "Validation output shape: (50, 5)\n",
            "Actual validation labels:\t [1 1 3 1 4 0 2 0 2 4 0 1 1 1 2 4 2 4 2 4 3 3 2 1 3 2 4 2 3 0 0 4 3 4 2 2 0\n",
            " 4 4 3 3 2 4 1 3 0 4 1 2 2]\n",
            "Predicted validation labels:\t [1 1 3 1 4 0 2 0 4 4 0 1 1 1 2 4 2 4 2 4 3 3 2 2 3 4 4 2 3 0 0 4 4 4 2 2 0\n",
            " 4 4 3 3 2 4 1 3 0 0 1 2 2]\n",
            "\n",
            " ---> Predicted labels\n",
            "|\n",
            "v Actual labels\n",
            "\t\t\t(0)    (1)    (2)    (3)    (4)   \n",
            "  background (0):  [     7      0      0      0      1]\n",
            "   capacitor (1):  [     0      8      0      0      0]\n",
            "       diode (2):  [     0      1     11      0      0]\n",
            "         led (3):  [     0      0      0      8      0]\n",
            "    resistor (4):  [     0      0      2      1     11]\n"
          ]
        }
      ],
      "source": [
        "### Create confusion matrix from validation set\n",
        "\n",
        "# Find predictions from all validation samples\n",
        "Y_pred = model.predict(X_val)\n",
        "print(\"Validation output shape:\", Y_pred.shape)\n",
        "\n",
        "# Convert actual and predicted validation one-hot encoding to numerical labels\n",
        "y_val = np.argmax(Y_val, axis=1)\n",
        "y_pred = np.argmax(Y_pred, axis=1)\n",
        "\n",
        "# Print some values from actual and predicted validation sets (first 50 samples)\n",
        "print(\"Actual validation labels:\\t\", y_val[:50])\n",
        "print(\"Predicted validation labels:\\t\", y_pred[:50])\n",
        "\n",
        "# Compute confusion matrix (note: we need to transpose SKLearn matrix to make it match Edge Impulse)\n",
        "cm = confusion_matrix(y_val, y_pred)\n",
        "cm = np.transpose(cm)\n",
        "\n",
        "# Print confusion matrix\n",
        "print()\n",
        "print(\" ---> Predicted labels\")\n",
        "print(\"|\")\n",
        "print(\"v Actual labels\")\n",
        "print(\"\\t\\t\\t\" + ' '.join(\"{!s:6}\".format('(' + str(i) + ')') for i in range(num_classes)))\n",
        "for row in range(num_classes):\n",
        "  print(\"{:>12} ({}):  [{}]\".format(labels[row], row, ' '.join(\"{:6}\".format(i) for i in cm[row])))"
      ]
    },
    {
      "cell_type": "code",
      "execution_count": null,
      "metadata": {
        "colab": {
          "base_uri": "https://localhost:8080/"
        },
        "id": "hgZXa_y2qorZ",
        "outputId": "95b4743d-c009-40de-e7bf-8c5c59a56629"
      },
      "outputs": [
        {
          "name": "stdout",
          "output_type": "stream",
          "text": [
            "2/2 [==============================] - 0s 4ms/step - loss: 0.4141 - acc: 0.9000\n",
            "Validation loss: 0.41407790780067444\n",
            "Validation accuracy: 0.8999999761581421\n"
          ]
        }
      ],
      "source": [
        "### Evaluate model on validation set\n",
        "score = model.evaluate(X_val, Y_val)\n",
        "print(\"Validation loss:\", score[0])\n",
        "print(\"Validation accuracy:\", score[1])"
      ]
    },
    {
      "cell_type": "code",
      "execution_count": null,
      "metadata": {
        "colab": {
          "base_uri": "https://localhost:8080/"
        },
        "id": "m2lvFg0RVxFr",
        "outputId": "dece3e7c-e863-422d-cf42-f2c8a203e0d0"
      },
      "outputs": [
        {
          "name": "stdout",
          "output_type": "stream",
          "text": [
            "2/2 [==============================] - 0s 4ms/step - loss: 0.1437 - acc: 0.9400\n",
            "Test loss: 0.1437472701072693\n",
            "Test accuracy: 0.9399999976158142\n"
          ]
        }
      ],
      "source": [
        "### Evaluate model on entire test set\n",
        "score = model.evaluate(X_test, Y_test)\n",
        "print(\"Test loss:\", score[0])\n",
        "print(\"Test accuracy:\", score[1])"
      ]
    }
  ],
  "metadata": {
    "colab": {
      "collapsed_sections": [],
      "name": "image-classifier-dnn.ipynb",
      "provenance": [],
      "toc_visible": true
    },
    "kernelspec": {
      "display_name": "Python 3",
      "name": "python3"
    },
    "language_info": {
      "name": "python"
    }
  },
  "nbformat": 4,
  "nbformat_minor": 0
}
